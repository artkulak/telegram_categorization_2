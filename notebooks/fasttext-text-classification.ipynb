{
 "cells": [
  {
   "cell_type": "code",
   "execution_count": 1,
   "metadata": {},
   "outputs": [],
   "source": [
    "import numpy as np, pandas as pd\n",
    "from tqdm import tqdm_notebook\n",
    "import json\n",
    "\n",
    "from pathlib import Path\n",
    "import os\n",
    "import csv\n",
    "import operator"
   ]
  },
  {
   "cell_type": "markdown",
   "metadata": {},
   "source": [
    "## Prepare the data"
   ]
  },
  {
   "cell_type": "code",
   "execution_count": 2,
   "metadata": {},
   "outputs": [],
   "source": [
    "path = '../resources/data/training/uzbek.csv'\n",
    "data = pd.read_csv(path)"
   ]
  },
  {
   "cell_type": "code",
   "execution_count": 3,
   "metadata": {},
   "outputs": [
    {
     "output_type": "execute_result",
     "data": {
      "text/plain": [
       "                                      label  \\\n",
       "0                     History<SEP>Education   \n",
       "1                       Offers & Promotions   \n",
       "2  Travel & Tourism<SEP>Offers & Promotions   \n",
       "3  Offers & Promotions<SEP>Travel & Tourism   \n",
       "4  Offers & Promotions<SEP>Travel & Tourism   \n",
       "\n",
       "                                                text  \n",
       "0  Wild Field Wild Field. Tarixiy tasodifiylik, X...  \n",
       "1  PASASHOESS Hurmatli mijozlar, PASHOES sizni o'...  \n",
       "2  Rossiyaning arzon Piratesru qaroqchilari - arz...  \n",
       "3  TripToDream sayohat kanali haqida e'lon! Ertag...  \n",
       "4  Vandrouki Travel kanali haqida e'lon! Ertaga S...  "
      ],
      "text/html": "<div>\n<style scoped>\n    .dataframe tbody tr th:only-of-type {\n        vertical-align: middle;\n    }\n\n    .dataframe tbody tr th {\n        vertical-align: top;\n    }\n\n    .dataframe thead th {\n        text-align: right;\n    }\n</style>\n<table border=\"1\" class=\"dataframe\">\n  <thead>\n    <tr style=\"text-align: right;\">\n      <th></th>\n      <th>label</th>\n      <th>text</th>\n    </tr>\n  </thead>\n  <tbody>\n    <tr>\n      <th>0</th>\n      <td>History&lt;SEP&gt;Education</td>\n      <td>Wild Field Wild Field. Tarixiy tasodifiylik, X...</td>\n    </tr>\n    <tr>\n      <th>1</th>\n      <td>Offers &amp; Promotions</td>\n      <td>PASASHOESS Hurmatli mijozlar, PASHOES sizni o'...</td>\n    </tr>\n    <tr>\n      <th>2</th>\n      <td>Travel &amp; Tourism&lt;SEP&gt;Offers &amp; Promotions</td>\n      <td>Rossiyaning arzon Piratesru qaroqchilari - arz...</td>\n    </tr>\n    <tr>\n      <th>3</th>\n      <td>Offers &amp; Promotions&lt;SEP&gt;Travel &amp; Tourism</td>\n      <td>TripToDream sayohat kanali haqida e'lon! Ertag...</td>\n    </tr>\n    <tr>\n      <th>4</th>\n      <td>Offers &amp; Promotions&lt;SEP&gt;Travel &amp; Tourism</td>\n      <td>Vandrouki Travel kanali haqida e'lon! Ertaga S...</td>\n    </tr>\n  </tbody>\n</table>\n</div>"
     },
     "metadata": {},
     "execution_count": 3
    }
   ],
   "source": [
    "data.head()"
   ]
  },
  {
   "cell_type": "code",
   "execution_count": 4,
   "metadata": {},
   "outputs": [],
   "source": [
    "mapper = {\n",
    "    \"Art & Design\":\"__label__0\",\n",
    "    \"Bets & Gambling\":\"__label__1\",\n",
    "    \"Books\":\"__label__2\",\n",
    "    \"Business & Entrepreneurship\":\"__label__3\",\n",
    "    \"Cars & Other Vehicles\":\"__label__4\",\n",
    "    \"Celebrities & Lifestyle\":\"__label__5\",\n",
    "    \"Cryptocurrencies\":\"__label__6\",\n",
    "    \"Culture & Events\":\"__label__7\",\n",
    "    \"Curious Facts\":\"__label__8\",\n",
    "    \"Directories of Channels & Bots\":\"__label__9\",\n",
    "    \"Drug Sale\":\"__label__10\",\n",
    "    \"Economy & Finance\":\"__label__11\",\n",
    "    \"Education\":\"__label__12\",\n",
    "    \"Erotic Content\":\"__label__13\",\n",
    "    \"Fashion & Beauty\":\"__label__14\",\n",
    "    \"Fitness\":\"__label__15\",\n",
    "    \"Forgery\":\"__label__16\",\n",
    "    \"Food & Cooking\":\"__label__17\",\n",
    "    \"Foreign Language Learning\":\"__label__18\",\n",
    "    \"Hacked Accounts & Software\":\"__label__19\",\n",
    "    \"Health & Medicine\":\"__label__20\",\n",
    "    \"History\":\"__label__21\",\n",
    "    \"Hobbies & Activities\":\"__label__22\",\n",
    "    \"Home & Architecture\":\"__label__23\",\n",
    "    \"Humor & Memes\":\"__label__24\",\n",
    "    \"Investments\":\"__label__25\",\n",
    "    \"Job Listings\":\"__label__26\",\n",
    "    \"Kids & Parenting\":\"__label__27\",\n",
    "    \"Marketing & PR\":\"__label__28\",\n",
    "    \"Motivation & Self-development\":\"__label__29\",\n",
    "    \"Movies\":\"__label__30\",\n",
    "    \"Music\":\"__label__31\",\n",
    "    \"Offers & Promotions\":\"__label__32\",\n",
    "    \"Personal Data\":\"__label__33\",\n",
    "    \"Pets\":\"__label__34\",\n",
    "    \"Pirated Content\":\"__label__35\",\n",
    "    \"Politics & Incidents\":\"__label__36\",\n",
    "    \"Prostitution\":\"__label__37\",\n",
    "    \"Psychology & Relationships\":\"__label__38\",\n",
    "    \"Real Estate\":\"__label__39\",\n",
    "    \"Recreation & Entertainment\":\"__label__40\",\n",
    "    \"Religion & Spirituality\":\"__label__41\",\n",
    "    \"Science\":\"__label__42\",\n",
    "    \"Spam & Fake Followers\":\"__label__43\",\n",
    "    \"Sports\":\"__label__44\",\n",
    "    \"Technology & Internet\":\"__label__45\",\n",
    "    \"Travel & Tourism\":\"__label__46\",\n",
    "    \"Video Games\":\"__label__47\",\n",
    "    \"Weapon Sale\":\"__label__48\",\n",
    "    \"Other\":\"__label__49\"\n",
    "    }\n",
    "\n",
    "reverse_mapper = {v: k for k, v in mapper.items()}"
   ]
  },
  {
   "cell_type": "code",
   "execution_count": 5,
   "metadata": {},
   "outputs": [],
   "source": [
    "def replace_words(s, words):\n",
    "    for k, v in words.items():\n",
    "        s = s.replace(k, v)\n",
    "    return s"
   ]
  },
  {
   "cell_type": "code",
   "execution_count": 6,
   "metadata": {},
   "outputs": [
    {
     "output_type": "stream",
     "name": "stdout",
     "text": [
      "['History', 'Education']\n"
     ]
    },
    {
     "output_type": "execute_result",
     "data": {
      "text/plain": [
       "['__label__21', '__label__12']"
      ]
     },
     "metadata": {},
     "execution_count": 6
    }
   ],
   "source": [
    "y_data_preprocesse = data.label.apply(lambda x: x.split(\"<SEP>\"))\n",
    "y_data = []\n",
    "for i in y_data_preprocesse:\n",
    "    y_data.append([replace_words(item, mapper) for item in i])\n",
    "\n",
    "print(y_data_preprocesse[0])\n",
    "y_data[0]"
   ]
  },
  {
   "cell_type": "code",
   "execution_count": 7,
   "metadata": {},
   "outputs": [
    {
     "output_type": "execute_result",
     "data": {
      "text/plain": [
       "0                   __label__21 __label__12\n",
       "1                               __label__32\n",
       "2                   __label__46 __label__32\n",
       "3                   __label__32 __label__46\n",
       "4                   __label__32 __label__46\n",
       "                        ...                \n",
       "31496                           __label__25\n",
       "31497                            __label__6\n",
       "31498                           __label__25\n",
       "31499    __label__25 __label__6 __label__45\n",
       "31500                __label__0 __label__40\n",
       "Name: label, Length: 31501, dtype: object"
      ]
     },
     "metadata": {},
     "execution_count": 7
    }
   ],
   "source": [
    "data.label = pd.Series(y_data).apply(lambda x: ' '.join(x))\n",
    "data.label"
   ]
  },
  {
   "cell_type": "code",
   "execution_count": 8,
   "metadata": {},
   "outputs": [
    {
     "output_type": "execute_result",
     "data": {
      "text/plain": [
       "                                    label  \\\n",
       "0                 __label__21 __label__12   \n",
       "1                             __label__32   \n",
       "2                 __label__46 __label__32   \n",
       "3                 __label__32 __label__46   \n",
       "4                 __label__32 __label__46   \n",
       "...                                   ...   \n",
       "31496                         __label__25   \n",
       "31497                          __label__6   \n",
       "31498                         __label__25   \n",
       "31499  __label__25 __label__6 __label__45   \n",
       "31500              __label__0 __label__40   \n",
       "\n",
       "                                                    text  \n",
       "0      Wild Field Wild Field. Tarixiy tasodifiylik, X...  \n",
       "1      PASASHOESS Hurmatli mijozlar, PASHOES sizni o'...  \n",
       "2      Rossiyaning arzon Piratesru qaroqchilari - arz...  \n",
       "3      TripToDream sayohat kanali haqida e'lon! Ertag...  \n",
       "4      Vandrouki Travel kanali haqida e'lon! Ertaga S...  \n",
       "...                                                  ...  \n",
       "31496  SUNSHINE INVESTIVE GROUP ðð [SI G] Hisob...  \n",
       "31497  RektChat kundalik o'quv xaritalarini sizning s...  \n",
       "31498  â\n",
       "FOREX IQ OPTION TRADINGâ\n",
       " qonuniy investit...  \n",
       "31499  P2PB2B p2pb2b - bu dunyodagi eng tez rivojlana...  \n",
       "31500  â¢ [weeb Atou] â¢ Eng yangi va eng yaxshi an...  \n",
       "\n",
       "[31501 rows x 2 columns]"
      ],
      "text/html": "<div>\n<style scoped>\n    .dataframe tbody tr th:only-of-type {\n        vertical-align: middle;\n    }\n\n    .dataframe tbody tr th {\n        vertical-align: top;\n    }\n\n    .dataframe thead th {\n        text-align: right;\n    }\n</style>\n<table border=\"1\" class=\"dataframe\">\n  <thead>\n    <tr style=\"text-align: right;\">\n      <th></th>\n      <th>label</th>\n      <th>text</th>\n    </tr>\n  </thead>\n  <tbody>\n    <tr>\n      <th>0</th>\n      <td>__label__21 __label__12</td>\n      <td>Wild Field Wild Field. Tarixiy tasodifiylik, X...</td>\n    </tr>\n    <tr>\n      <th>1</th>\n      <td>__label__32</td>\n      <td>PASASHOESS Hurmatli mijozlar, PASHOES sizni o'...</td>\n    </tr>\n    <tr>\n      <th>2</th>\n      <td>__label__46 __label__32</td>\n      <td>Rossiyaning arzon Piratesru qaroqchilari - arz...</td>\n    </tr>\n    <tr>\n      <th>3</th>\n      <td>__label__32 __label__46</td>\n      <td>TripToDream sayohat kanali haqida e'lon! Ertag...</td>\n    </tr>\n    <tr>\n      <th>4</th>\n      <td>__label__32 __label__46</td>\n      <td>Vandrouki Travel kanali haqida e'lon! Ertaga S...</td>\n    </tr>\n    <tr>\n      <th>...</th>\n      <td>...</td>\n      <td>...</td>\n    </tr>\n    <tr>\n      <th>31496</th>\n      <td>__label__25</td>\n      <td>SUNSHINE INVESTIVE GROUP ðð [SI G] Hisob...</td>\n    </tr>\n    <tr>\n      <th>31497</th>\n      <td>__label__6</td>\n      <td>RektChat kundalik o'quv xaritalarini sizning s...</td>\n    </tr>\n    <tr>\n      <th>31498</th>\n      <td>__label__25</td>\n      <td>âFOREX IQ OPTION TRADINGâ qonuniy investit...</td>\n    </tr>\n    <tr>\n      <th>31499</th>\n      <td>__label__25 __label__6 __label__45</td>\n      <td>P2PB2B p2pb2b - bu dunyodagi eng tez rivojlana...</td>\n    </tr>\n    <tr>\n      <th>31500</th>\n      <td>__label__0 __label__40</td>\n      <td>â¢ [weeb Atou] â¢ Eng yangi va eng yaxshi an...</td>\n    </tr>\n  </tbody>\n</table>\n<p>31501 rows × 2 columns</p>\n</div>"
     },
     "metadata": {},
     "execution_count": 8
    }
   ],
   "source": [
    "data"
   ]
  },
  {
   "cell_type": "code",
   "execution_count": 9,
   "metadata": {},
   "outputs": [
    {
     "output_type": "execute_result",
     "data": {
      "text/plain": [
       "'__label__21 __label__12'"
      ]
     },
     "metadata": {},
     "execution_count": 9
    }
   ],
   "source": [
    "data.label.iloc[0]"
   ]
  },
  {
   "cell_type": "code",
   "execution_count": 10,
   "metadata": {},
   "outputs": [],
   "source": [
    "# Remove emojis\n",
    "import re\n",
    "\n",
    "\n",
    "def deEmojify(text):    \n",
    "    regex_pattern = re.compile(\"[\"\n",
    "        u\"\\U0001F600-\\U0001F64F\"  # emoticons\n",
    "        u\"\\U0001F300-\\U0001F5FF\"  # symbols & pictographs\n",
    "        u\"\\U0001F680-\\U0001F6FF\"  # transport & map symbols\n",
    "        u\"\\U0001F1E0-\\U0001F1FF\"  # flags (iOS)\n",
    "        u\"\\U00002500-\\U00002BEF\"  # chinese char\n",
    "        u\"\\U00002702-\\U000027B0\"\n",
    "        u\"\\U00002702-\\U000027B0\"\n",
    "        u\"\\U000024C2-\\U0001F251\"\n",
    "        u\"\\U0001f926-\\U0001f937\"\n",
    "        u\"\\U00010000-\\U0010ffff\"\n",
    "        u\"\\u2640-\\u2642\" \n",
    "        u\"\\u2600-\\u2B55\"\n",
    "        u\"\\u200d\"\n",
    "        u\"\\u23cf\"\n",
    "        u\"\\u23e9\"\n",
    "        u\"\\u231a\"\n",
    "        u\"\\ufe0f\"  # dingbats\n",
    "        u\"\\u3030\"                    \n",
    "                      \"]+\", re.UNICODE)\n",
    "    return regex_pattern.sub(r'',text)\n",
    "\n",
    "data['text'] = data['text'].apply(deEmojify)"
   ]
  },
  {
   "cell_type": "code",
   "execution_count": 11,
   "metadata": {},
   "outputs": [],
   "source": [
    "data['text'] = data['text'].apply(lambda x: x.lower())"
   ]
  },
  {
   "cell_type": "code",
   "execution_count": 12,
   "metadata": {},
   "outputs": [],
   "source": [
    "def removeEmail(text):\n",
    "    pattern = re.compile(\"((\\w+)(\\.|_)?(\\w*)@(\\w+)(\\.(\\w+))+)\")\n",
    "    return pattern.sub(r'', text)\n",
    "\n",
    "\n",
    "data['text'] = data['text'].apply(removeEmail)"
   ]
  },
  {
   "cell_type": "code",
   "execution_count": 13,
   "metadata": {},
   "outputs": [],
   "source": [
    "def removeUsername(text):\n",
    "    pattern = re.compile(\"(@(\\w+))\")\n",
    "    return pattern.sub(r'', text)\n",
    "\n",
    "\n",
    "data['text'] = data['text'].apply(removeUsername)"
   ]
  },
  {
   "cell_type": "code",
   "execution_count": 14,
   "metadata": {},
   "outputs": [],
   "source": [
    "def removeLinks(text):\n",
    "    pattern = re.compile(\"(https?://[^ ]+)\")\n",
    "    return pattern.sub(r'', text)\n",
    "\n",
    "\n",
    "data['text'] = data['text'].apply(removeLinks)"
   ]
  },
  {
   "cell_type": "code",
   "execution_count": 15,
   "metadata": {},
   "outputs": [],
   "source": [
    "data.to_csv('../resources/data/category_uz/fasttext_train.txt', header=None, index=None, sep=' ', mode='a')"
   ]
  },
  {
   "source": [
    "## Train fasttext"
   ],
   "cell_type": "markdown",
   "metadata": {}
  },
  {
   "cell_type": "code",
   "execution_count": 16,
   "metadata": {},
   "outputs": [],
   "source": [
    "import fasttext"
   ]
  },
  {
   "cell_type": "code",
   "execution_count": 17,
   "metadata": {},
   "outputs": [],
   "source": [
    "fasttext_params = {\n",
    "    'input': \"../resources/data/category_uz/fasttext_train.txt\",\n",
    "    'lr': 0.1,\n",
    "    'lrUpdateRate': 1000,\n",
    "    'thread': 8,\n",
    "    'epoch': 10,\n",
    "    'wordNgrams': 1,\n",
    "    'dim': 100,\n",
    "    'loss': 'ova'\n",
    "}"
   ]
  },
  {
   "cell_type": "code",
   "execution_count": 18,
   "metadata": {},
   "outputs": [],
   "source": [
    "model = fasttext.train_supervised(**fasttext_params)"
   ]
  },
  {
   "cell_type": "code",
   "execution_count": 19,
   "metadata": {},
   "outputs": [
    {
     "output_type": "execute_result",
     "data": {
      "text/plain": [
       "(31501, 0.4248119107329926, 0.2878840030978401)"
      ]
     },
     "metadata": {},
     "execution_count": 19
    }
   ],
   "source": [
    "model.test(\"../resources/data/category_uz/fasttext_train.txt\")"
   ]
  },
  {
   "cell_type": "markdown",
   "metadata": {},
   "source": [
    "## Evaluate model"
   ]
  },
  {
   "cell_type": "code",
   "execution_count": 20,
   "metadata": {},
   "outputs": [
    {
     "output_type": "stream",
     "name": "stdout",
     "text": [
      "(('__label__49\"', '__label__49'), array([0.11921292, 0.09010299]))\n"
     ]
    }
   ],
   "source": [
    "from sklearn.metrics import f1_score, precision_score, recall_score\n",
    "from sklearn.metrics import accuracy_score, roc_auc_score\n",
    "y_pred = model.predict(\"путешествуй дешево piratesru пираты россия - дешевые авиабилеты и самостоятельные путешествия!  обсуждение: vk.com/piratesru  по вопросам сотрудничества:  анонс! завтра распродажа smartavia: миллион билетов по россии от 990₽#разное новый маршрут nordwind: из минвод в стамбул от 5600₽ туда-обратно, можно на 23 февраля и 8 марта#билеты #юфо pegasus объявил о скидке 25%: хм... в стамбул из минвод и грозного от 8500₽/9900₽ туда-обратно#low_cost #pegasus #апрель #без_багажа #июнь #лоукост #май #стамбул #турция новое направление азимута! из воронежа в ростов за 1800₽ туда-обратно с конца марта#москва #билеты #юфо туры на неделю в турцию из мск или спб от 14200₽/15500₽ на чел. в конце февраля-начале марта#москва #спб #туры цены вниз! с nordwind из москвы в горно-алтайск от 8300₽ туда-обратно#москва #билеты #сибирь подешевело! прямые рейсы nordwind из мск в хабаровск и владивосток от 15300₽ туда-обратно#москва #билеты #дальний_восток летим в египет на новый год! дешевые билеты в хургаду и шарм-эль-шейх от 13400₽ туда-обратно#москва #билеты неожиданно! прямые рейсы из ростова в каир от 20400₽ туда-обратно с багажом#билеты #юфо актуально! в мае и начале июня из спб в измир за 12700₽ туда-обратно. прямые рейсы#спб #билеты \", k=2)\n",
    "print(y_pred)\n",
    "#print('Accuracy ', accuracy_score(y_test, y_pred))\n",
    "#print('F1 ', f1_score(y_test, y_pred.astype(float), average='micro'))\n",
    "#print('Precision ', precision_score(y_test, y_pred.astype(float), average='micro'))\n",
    "#print('Recall ', recall_score(y_test, y_pred.astype(float), average='micro'))\n",
    "#print(y_pred[0])\n",
    "#print(y_test.iloc[0].values)"
   ]
  },
  {
   "cell_type": "markdown",
   "metadata": {},
   "source": [
    "## Save lightmgbm models"
   ]
  },
  {
   "cell_type": "code",
   "execution_count": 21,
   "metadata": {},
   "outputs": [],
   "source": [
    "model.save_model('../resources/models/uz/fasttext_50_uz.ftz')"
   ]
  },
  {
   "cell_type": "code",
   "execution_count": null,
   "metadata": {},
   "outputs": [],
   "source": []
  },
  {
   "cell_type": "code",
   "execution_count": null,
   "metadata": {},
   "outputs": [],
   "source": []
  }
 ],
 "metadata": {
  "kernelspec": {
   "name": "python385jvsc74a57bd0916dbcbb3f70747c44a77c7bcd40155683ae19c65e1c03b4aa3499c5328201f1",
   "display_name": "Python 3.8.5 64-bit"
  },
  "language_info": {
   "codemirror_mode": {
    "name": "ipython",
    "version": 3
   },
   "file_extension": ".py",
   "mimetype": "text/x-python",
   "name": "python",
   "nbconvert_exporter": "python",
   "pygments_lexer": "ipython3",
   "version": "3.8.5"
  },
  "metadata": {
   "interpreter": {
    "hash": "767d51c1340bd893661ea55ea3124f6de3c7a262a8b4abca0554b478b1e2ff90"
   }
  }
 },
 "nbformat": 4,
 "nbformat_minor": 4
}