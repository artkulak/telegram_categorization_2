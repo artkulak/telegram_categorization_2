{
 "cells": [
  {
   "cell_type": "code",
   "execution_count": 18,
   "metadata": {},
   "outputs": [],
   "source": [
    "import numpy as np, pandas as pd\n",
    "from tqdm import tqdm_notebook\n",
    "import json\n",
    "\n",
    "from pathlib import Path\n",
    "import os\n",
    "import lightgbm as lgbm\n",
    "import csv\n",
    "import operator"
   ]
  },
  {
   "cell_type": "markdown",
   "metadata": {},
   "source": [
    "## Prepare the data"
   ]
  },
  {
   "cell_type": "code",
   "execution_count": 20,
   "metadata": {},
   "outputs": [],
   "source": [
    "def load_x_data(file):\n",
    "\n",
    "    with open(f'{file}', 'r', encoding='utf-8') as f:\n",
    "        input_lines = f.read().split('\\n')\n",
    "\n",
    "    data = {\n",
    "        \"title\": [],\n",
    "        \"description\": [],\n",
    "        \"recent_posts\": [],\n",
    "    }\n",
    "\n",
    "    for line in input_lines:\n",
    "        try:\n",
    "            line = json.loads(line)\n",
    "        except:\n",
    "            pass\n",
    "\n",
    "        if line != '':\n",
    "            try:\n",
    "                data['title'].append(line['title'])\n",
    "                data['description'].append(line['description'])\n",
    "                data['recent_posts'].append('\\n'.join(line['recent_posts']))\n",
    "            except:\n",
    "                print('Parse error')\n",
    "\n",
    "    data = pd.DataFrame(data)\n",
    "    return data\n",
    "\n",
    "def load_y_data(file):\n",
    "\n",
    "    with open(f'{file}', 'r', encoding='utf-8') as f:\n",
    "        input_lines = f.read().split('\\n')\n",
    "\n",
    "    data = {\n",
    "        #'lang_code': [],\n",
    "        'label': []  \n",
    "    }\n",
    "\n",
    "    for line in input_lines:\n",
    "        try:\n",
    "            line = json.loads(line)\n",
    "        except:\n",
    "            pass\n",
    "\n",
    "        if line != '':\n",
    "            try:\n",
    "                #data['lang_code'].append(line['lang_code'])\n",
    "                data['label'].append('<SEP>'.join(list(line['category'].keys())))\n",
    "            except:\n",
    "                print('Parse error')\n",
    "    data = pd.DataFrame(data)\n",
    "    return data"
   ]
  },
  {
   "cell_type": "code",
   "execution_count": 22,
   "metadata": {
    "tags": []
   },
   "outputs": [],
   "source": [
    "x_data = pd.DataFrame(columns = ['title', 'description', 'recent_posts'])\n",
    "y_data = pd.DataFrame(columns = ['label'])\n",
    "PATH = '../data/category_ru/'\n",
    "x_data = pd.concat([x_data, load_x_data(str(PATH + \"input.txt\"))]).reset_index(drop=True)\n",
    "y_data = pd.concat([y_data, load_y_data(str(PATH + \"output.txt\"))]).reset_index(drop=True)\n",
    "    \n",
    "x_data['recent_posts'] = x_data['recent_posts'].apply(lambda x: x.replace('\\u200b', ''))\n",
    "data = x_data\n",
    "data['label'] = y_data"
   ]
  },
  {
   "cell_type": "code",
   "execution_count": 24,
   "metadata": {},
   "outputs": [
    {
     "output_type": "execute_result",
     "data": {
      "text/plain": [
       "                          title  \\\n",
       "0                    Wild Field   \n",
       "1                    PASASHOESS   \n",
       "2  Путешествуй дешево Piratesru   \n",
       "3                   TripToDream   \n",
       "4                     Vandrouki   \n",
       "\n",
       "                                         description  \\\n",
       "0  Дикое Поле. Историческая рандомность, халдуниа...   \n",
       "1  Уважаемые покупатели, PASHASHOES радостью прив...   \n",
       "2  Пираты Россия - дешевые авиабилеты и самостоят...   \n",
       "3                                     Travel Channel   \n",
       "4                                     Trаvеl channel   \n",
       "\n",
       "                                        recent_posts  \\\n",
       "0  \"Айя-София\" в болгарской Софии (да, каламбур) ...   \n",
       "1  только  оптом\\n  WHOLESALE\\n36 37² 38² 39² 40\\...   \n",
       "2  Анонс! Завтра распродажа Smartavia: миллион би...   \n",
       "3  Анонс! Завтра распродажа Smartavia: миллион би...   \n",
       "4  Анонс! Завтра распродажа Smartavia: миллион би...   \n",
       "\n",
       "                                               label  \n",
       "0  Curious Facts<SEP>History<SEP>Movies<SEP>Polit...  \n",
       "1                                Offers & Promotions  \n",
       "2           Offers & Promotions<SEP>Travel & Tourism  \n",
       "3           Offers & Promotions<SEP>Travel & Tourism  \n",
       "4           Offers & Promotions<SEP>Travel & Tourism  "
      ],
      "text/html": "<div>\n<style scoped>\n    .dataframe tbody tr th:only-of-type {\n        vertical-align: middle;\n    }\n\n    .dataframe tbody tr th {\n        vertical-align: top;\n    }\n\n    .dataframe thead th {\n        text-align: right;\n    }\n</style>\n<table border=\"1\" class=\"dataframe\">\n  <thead>\n    <tr style=\"text-align: right;\">\n      <th></th>\n      <th>title</th>\n      <th>description</th>\n      <th>recent_posts</th>\n      <th>label</th>\n    </tr>\n  </thead>\n  <tbody>\n    <tr>\n      <th>0</th>\n      <td>Wild Field</td>\n      <td>Дикое Поле. Историческая рандомность, халдуниа...</td>\n      <td>\"Айя-София\" в болгарской Софии (да, каламбур) ...</td>\n      <td>Curious Facts&lt;SEP&gt;History&lt;SEP&gt;Movies&lt;SEP&gt;Polit...</td>\n    </tr>\n    <tr>\n      <th>1</th>\n      <td>PASASHOESS</td>\n      <td>Уважаемые покупатели, PASHASHOES радостью прив...</td>\n      <td>только  оптом\\n  WHOLESALE\\n36 37² 38² 39² 40\\...</td>\n      <td>Offers &amp; Promotions</td>\n    </tr>\n    <tr>\n      <th>2</th>\n      <td>Путешествуй дешево Piratesru</td>\n      <td>Пираты Россия - дешевые авиабилеты и самостоят...</td>\n      <td>Анонс! Завтра распродажа Smartavia: миллион би...</td>\n      <td>Offers &amp; Promotions&lt;SEP&gt;Travel &amp; Tourism</td>\n    </tr>\n    <tr>\n      <th>3</th>\n      <td>TripToDream</td>\n      <td>Travel Channel</td>\n      <td>Анонс! Завтра распродажа Smartavia: миллион би...</td>\n      <td>Offers &amp; Promotions&lt;SEP&gt;Travel &amp; Tourism</td>\n    </tr>\n    <tr>\n      <th>4</th>\n      <td>Vandrouki</td>\n      <td>Trаvеl channel</td>\n      <td>Анонс! Завтра распродажа Smartavia: миллион би...</td>\n      <td>Offers &amp; Promotions&lt;SEP&gt;Travel &amp; Tourism</td>\n    </tr>\n  </tbody>\n</table>\n</div>"
     },
     "metadata": {},
     "execution_count": 24
    }
   ],
   "source": [
    "data.head()"
   ]
  },
  {
   "cell_type": "code",
   "execution_count": 26,
   "metadata": {},
   "outputs": [],
   "source": [
    "mapper = {'Art & Design': 0,\n",
    " 'Bets & Gambling': 1,\n",
    " 'Books': 2,\n",
    " 'Business & Entrepreneurship': 3,\n",
    " 'Cars & Other Vehicles': 4,\n",
    " 'Celebrities & Lifestyle': 5,\n",
    " 'Cryptocurrencies': 6,\n",
    " 'Culture & Events': 7,\n",
    " 'Curious Facts': 8,\n",
    " 'Directories of Channels & Bots': 9,\n",
    " 'Economy & Finance': 10,\n",
    " 'Education': 11,\n",
    " 'Erotic Content': 12,\n",
    " 'Fashion & Beauty': 13,\n",
    " 'Fitness': 14,\n",
    " 'Food & Cooking': 15,\n",
    " 'Foreign Languages': 16,\n",
    " 'Health & Medicine': 17,\n",
    " 'History': 18,\n",
    " 'Hobbies & Activities': 19,\n",
    " 'Home & Architecture': 20,\n",
    " 'Humor & Memes': 21,\n",
    " 'Investments': 22,\n",
    " 'Job Listings': 23,\n",
    " 'Kids & Parenting': 24,\n",
    " 'Marketing & PR': 25,\n",
    " 'Motivation & Self-Development': 26,\n",
    " 'Movies': 27,\n",
    " 'Music': 28,\n",
    " 'Offers & Promotions': 29,\n",
    " 'Pets': 30,\n",
    " 'Politics & Incidents': 31,\n",
    " 'Psychology & Relationships': 32,\n",
    " 'Real Estate': 33,\n",
    " 'Recreation & Entertainment': 34,\n",
    " 'Religion & Spirituality': 35,\n",
    " 'Science': 36,\n",
    " 'Sports': 37,\n",
    " 'Technology & Internet': 38,\n",
    " 'Travel & Tourism': 39,\n",
    " 'Video Games': 40,\n",
    " 'Other': 41}\n",
    "\n",
    "reverse_mapper = {v: k for k, v in mapper.items()}"
   ]
  },
  {
   "cell_type": "code",
   "execution_count": 28,
   "metadata": {},
   "outputs": [
    {
     "output_type": "execute_result",
     "data": {
      "text/plain": [
       "Empty DataFrame\n",
       "Columns: [Art & Design, Bets & Gambling, Books, Business & Entrepreneurship, Cars & Other Vehicles, Celebrities & Lifestyle, Cryptocurrencies, Culture & Events, Curious Facts, Directories of Channels & Bots, Economy & Finance, Education, Erotic Content, Fashion & Beauty, Fitness, Food & Cooking, Foreign Languages, Health & Medicine, History, Hobbies & Activities, Home & Architecture, Humor & Memes, Investments, Job Listings, Kids & Parenting, Marketing & PR, Motivation & Self-Development, Movies, Music, Offers & Promotions, Pets, Politics & Incidents, Psychology & Relationships, Real Estate, Recreation & Entertainment, Religion & Spirituality, Science, Sports, Technology & Internet, Travel & Tourism, Video Games, Other]\n",
       "Index: []\n",
       "\n",
       "[0 rows x 42 columns]"
      ],
      "text/html": "<div>\n<style scoped>\n    .dataframe tbody tr th:only-of-type {\n        vertical-align: middle;\n    }\n\n    .dataframe tbody tr th {\n        vertical-align: top;\n    }\n\n    .dataframe thead th {\n        text-align: right;\n    }\n</style>\n<table border=\"1\" class=\"dataframe\">\n  <thead>\n    <tr style=\"text-align: right;\">\n      <th></th>\n      <th>Art &amp; Design</th>\n      <th>Bets &amp; Gambling</th>\n      <th>Books</th>\n      <th>Business &amp; Entrepreneurship</th>\n      <th>Cars &amp; Other Vehicles</th>\n      <th>Celebrities &amp; Lifestyle</th>\n      <th>Cryptocurrencies</th>\n      <th>Culture &amp; Events</th>\n      <th>Curious Facts</th>\n      <th>Directories of Channels &amp; Bots</th>\n      <th>...</th>\n      <th>Psychology &amp; Relationships</th>\n      <th>Real Estate</th>\n      <th>Recreation &amp; Entertainment</th>\n      <th>Religion &amp; Spirituality</th>\n      <th>Science</th>\n      <th>Sports</th>\n      <th>Technology &amp; Internet</th>\n      <th>Travel &amp; Tourism</th>\n      <th>Video Games</th>\n      <th>Other</th>\n    </tr>\n  </thead>\n  <tbody>\n  </tbody>\n</table>\n<p>0 rows × 42 columns</p>\n</div>"
     },
     "metadata": {},
     "execution_count": 28
    }
   ],
   "source": [
    "y_data = pd.DataFrame(columns=mapper.keys())\n",
    "y_data"
   ]
  },
  {
   "cell_type": "code",
   "execution_count": 30,
   "metadata": {},
   "outputs": [
    {
     "output_type": "execute_result",
     "data": {
      "text/plain": [
       "   Art & Design  Bets & Gambling  Books  Business & Entrepreneurship  \\\n",
       "0             0                0      0                            0   \n",
       "1             0                0      0                            0   \n",
       "2             0                0      0                            0   \n",
       "3             0                0      0                            0   \n",
       "4             0                0      0                            0   \n",
       "\n",
       "   Cars & Other Vehicles  Celebrities & Lifestyle  Cryptocurrencies  \\\n",
       "0                      0                        0                 0   \n",
       "1                      0                        0                 0   \n",
       "2                      0                        0                 0   \n",
       "3                      0                        0                 0   \n",
       "4                      0                        0                 0   \n",
       "\n",
       "   Culture & Events  Curious Facts  Directories of Channels & Bots  ...  Pets  \\\n",
       "0                 0              1                               0  ...     0   \n",
       "1                 0              0                               0  ...     0   \n",
       "2                 0              0                               0  ...     0   \n",
       "3                 0              0                               0  ...     0   \n",
       "4                 0              0                               0  ...     0   \n",
       "\n",
       "   Politics & Incidents  Psychology & Relationships  Real Estate  \\\n",
       "0                     1                           0            1   \n",
       "1                     0                           0            0   \n",
       "2                     0                           0            0   \n",
       "3                     0                           0            0   \n",
       "4                     0                           0            0   \n",
       "\n",
       "   Religion & Spirituality  Science  Sports  Technology & Internet  \\\n",
       "0                        1        0       0                      1   \n",
       "1                        0        0       0                      0   \n",
       "2                        0        0       0                      0   \n",
       "3                        0        0       0                      0   \n",
       "4                        0        0       0                      0   \n",
       "\n",
       "   Travel & Tourism  Video Games  \n",
       "0                 1            0  \n",
       "1                 0            0  \n",
       "2                 1            0  \n",
       "3                 1            0  \n",
       "4                 1            0  \n",
       "\n",
       "[5 rows x 41 columns]"
      ],
      "text/html": "<div>\n<style scoped>\n    .dataframe tbody tr th:only-of-type {\n        vertical-align: middle;\n    }\n\n    .dataframe tbody tr th {\n        vertical-align: top;\n    }\n\n    .dataframe thead th {\n        text-align: right;\n    }\n</style>\n<table border=\"1\" class=\"dataframe\">\n  <thead>\n    <tr style=\"text-align: right;\">\n      <th></th>\n      <th>Art &amp; Design</th>\n      <th>Bets &amp; Gambling</th>\n      <th>Books</th>\n      <th>Business &amp; Entrepreneurship</th>\n      <th>Cars &amp; Other Vehicles</th>\n      <th>Celebrities &amp; Lifestyle</th>\n      <th>Cryptocurrencies</th>\n      <th>Culture &amp; Events</th>\n      <th>Curious Facts</th>\n      <th>Directories of Channels &amp; Bots</th>\n      <th>...</th>\n      <th>Pets</th>\n      <th>Politics &amp; Incidents</th>\n      <th>Psychology &amp; Relationships</th>\n      <th>Real Estate</th>\n      <th>Religion &amp; Spirituality</th>\n      <th>Science</th>\n      <th>Sports</th>\n      <th>Technology &amp; Internet</th>\n      <th>Travel &amp; Tourism</th>\n      <th>Video Games</th>\n    </tr>\n  </thead>\n  <tbody>\n    <tr>\n      <th>0</th>\n      <td>0</td>\n      <td>0</td>\n      <td>0</td>\n      <td>0</td>\n      <td>0</td>\n      <td>0</td>\n      <td>0</td>\n      <td>0</td>\n      <td>1</td>\n      <td>0</td>\n      <td>...</td>\n      <td>0</td>\n      <td>1</td>\n      <td>0</td>\n      <td>1</td>\n      <td>1</td>\n      <td>0</td>\n      <td>0</td>\n      <td>1</td>\n      <td>1</td>\n      <td>0</td>\n    </tr>\n    <tr>\n      <th>1</th>\n      <td>0</td>\n      <td>0</td>\n      <td>0</td>\n      <td>0</td>\n      <td>0</td>\n      <td>0</td>\n      <td>0</td>\n      <td>0</td>\n      <td>0</td>\n      <td>0</td>\n      <td>...</td>\n      <td>0</td>\n      <td>0</td>\n      <td>0</td>\n      <td>0</td>\n      <td>0</td>\n      <td>0</td>\n      <td>0</td>\n      <td>0</td>\n      <td>0</td>\n      <td>0</td>\n    </tr>\n    <tr>\n      <th>2</th>\n      <td>0</td>\n      <td>0</td>\n      <td>0</td>\n      <td>0</td>\n      <td>0</td>\n      <td>0</td>\n      <td>0</td>\n      <td>0</td>\n      <td>0</td>\n      <td>0</td>\n      <td>...</td>\n      <td>0</td>\n      <td>0</td>\n      <td>0</td>\n      <td>0</td>\n      <td>0</td>\n      <td>0</td>\n      <td>0</td>\n      <td>0</td>\n      <td>1</td>\n      <td>0</td>\n    </tr>\n    <tr>\n      <th>3</th>\n      <td>0</td>\n      <td>0</td>\n      <td>0</td>\n      <td>0</td>\n      <td>0</td>\n      <td>0</td>\n      <td>0</td>\n      <td>0</td>\n      <td>0</td>\n      <td>0</td>\n      <td>...</td>\n      <td>0</td>\n      <td>0</td>\n      <td>0</td>\n      <td>0</td>\n      <td>0</td>\n      <td>0</td>\n      <td>0</td>\n      <td>0</td>\n      <td>1</td>\n      <td>0</td>\n    </tr>\n    <tr>\n      <th>4</th>\n      <td>0</td>\n      <td>0</td>\n      <td>0</td>\n      <td>0</td>\n      <td>0</td>\n      <td>0</td>\n      <td>0</td>\n      <td>0</td>\n      <td>0</td>\n      <td>0</td>\n      <td>...</td>\n      <td>0</td>\n      <td>0</td>\n      <td>0</td>\n      <td>0</td>\n      <td>0</td>\n      <td>0</td>\n      <td>0</td>\n      <td>0</td>\n      <td>1</td>\n      <td>0</td>\n    </tr>\n  </tbody>\n</table>\n<p>5 rows × 41 columns</p>\n</div>"
     },
     "metadata": {},
     "execution_count": 30
    }
   ],
   "source": [
    "labels_list = pd.Series(data.label.apply(lambda x: x.split(\"<SEP>\")))\n",
    "y_data_preprocesse = pd.get_dummies(labels_list.apply(pd.Series).stack(), columns=mapper.keys()).sum(level=0)\n",
    "y_data_preprocesse.head()"
   ]
  },
  {
   "cell_type": "code",
   "execution_count": 32,
   "metadata": {},
   "outputs": [
    {
     "output_type": "stream",
     "name": "stdout",
     "text": [
      "Art & Design                      0\nBets & Gambling                   0\nBooks                             0\nBusiness & Entrepreneurship       0\nCars & Other Vehicles             0\nCelebrities & Lifestyle           0\nCryptocurrencies                  0\nCulture & Events                  0\nCurious Facts                     1\nDirectories of Channels & Bots    0\nEconomy & Finance                 0\nEducation                         0\nErotic Content                    0\nFashion & Beauty                  0\nFitness                           0\nFood & Cooking                    0\nForeign Language Learning         0\nHealth & Medicine                 0\nHistory                           1\nHobbies & Activities              0\nHome & Architecture               0\nHumor & Memes                     0\nInvestments                       0\nJob Listings                      0\nKids & Parenting                  0\nMarketing & PR                    0\nMotivation & Self-development     0\nMovies                            1\nMusic                             0\nOffers & Promotions               0\nOther                             1\nPets                              0\nPolitics & Incidents              1\nPsychology & Relationships        0\nReal Estate                       1\nReligion & Spirituality           1\nScience                           0\nSports                            0\nTechnology & Internet             1\nTravel & Tourism                  1\nVideo Games                       0\nName: 0, dtype: uint8\n"
     ]
    }
   ],
   "source": [
    "print(y_data_preprocesse.iloc[0])"
   ]
  },
  {
   "cell_type": "code",
   "execution_count": 34,
   "metadata": {},
   "outputs": [
    {
     "output_type": "execute_result",
     "data": {
      "text/plain": [
       "'Curious Facts<SEP>History<SEP>Movies<SEP>Politics & Incidents<SEP>Real Estate<SEP>Religion & Spirituality<SEP>Technology & Internet<SEP>Travel & Tourism<SEP>Other'"
      ]
     },
     "metadata": {},
     "execution_count": 34
    }
   ],
   "source": [
    "data.label.iloc[0]"
   ]
  },
  {
   "cell_type": "code",
   "execution_count": 36,
   "metadata": {},
   "outputs": [
    {
     "output_type": "execute_result",
     "data": {
      "text/plain": [
       "                          title  \\\n",
       "0                    Wild Field   \n",
       "1                    PASASHOESS   \n",
       "2  Путешествуй дешево Piratesru   \n",
       "3                   TripToDream   \n",
       "4                     Vandrouki   \n",
       "\n",
       "                                         description  \\\n",
       "0  Дикое Поле. Историческая рандомность, халдуниа...   \n",
       "1  Уважаемые покупатели, PASHASHOES радостью прив...   \n",
       "2  Пираты Россия - дешевые авиабилеты и самостоят...   \n",
       "3                                     Travel Channel   \n",
       "4                                     Trаvеl channel   \n",
       "\n",
       "                                        recent_posts  \n",
       "0  \"Айя-София\" в болгарской Софии (да, каламбур) ...  \n",
       "1  только  оптом\\n  WHOLESALE\\n36 37² 38² 39² 40\\...  \n",
       "2  Анонс! Завтра распродажа Smartavia: миллион би...  \n",
       "3  Анонс! Завтра распродажа Smartavia: миллион би...  \n",
       "4  Анонс! Завтра распродажа Smartavia: миллион би...  "
      ],
      "text/html": "<div>\n<style scoped>\n    .dataframe tbody tr th:only-of-type {\n        vertical-align: middle;\n    }\n\n    .dataframe tbody tr th {\n        vertical-align: top;\n    }\n\n    .dataframe thead th {\n        text-align: right;\n    }\n</style>\n<table border=\"1\" class=\"dataframe\">\n  <thead>\n    <tr style=\"text-align: right;\">\n      <th></th>\n      <th>title</th>\n      <th>description</th>\n      <th>recent_posts</th>\n    </tr>\n  </thead>\n  <tbody>\n    <tr>\n      <th>0</th>\n      <td>Wild Field</td>\n      <td>Дикое Поле. Историческая рандомность, халдуниа...</td>\n      <td>\"Айя-София\" в болгарской Софии (да, каламбур) ...</td>\n    </tr>\n    <tr>\n      <th>1</th>\n      <td>PASASHOESS</td>\n      <td>Уважаемые покупатели, PASHASHOES радостью прив...</td>\n      <td>только  оптом\\n  WHOLESALE\\n36 37² 38² 39² 40\\...</td>\n    </tr>\n    <tr>\n      <th>2</th>\n      <td>Путешествуй дешево Piratesru</td>\n      <td>Пираты Россия - дешевые авиабилеты и самостоят...</td>\n      <td>Анонс! Завтра распродажа Smartavia: миллион би...</td>\n    </tr>\n    <tr>\n      <th>3</th>\n      <td>TripToDream</td>\n      <td>Travel Channel</td>\n      <td>Анонс! Завтра распродажа Smartavia: миллион би...</td>\n    </tr>\n    <tr>\n      <th>4</th>\n      <td>Vandrouki</td>\n      <td>Trаvеl channel</td>\n      <td>Анонс! Завтра распродажа Smartavia: миллион би...</td>\n    </tr>\n  </tbody>\n</table>\n</div>"
     },
     "metadata": {},
     "execution_count": 36
    }
   ],
   "source": [
    "data = data.drop(\"label\", axis=1)\n",
    "data.head()"
   ]
  },
  {
   "cell_type": "code",
   "execution_count": 38,
   "metadata": {},
   "outputs": [],
   "source": [
    "#data = pd.concat([data, y_data_preprocesse], axis=1, join=\"inner\")\n",
    "#data.head()"
   ]
  },
  {
   "cell_type": "code",
   "execution_count": 40,
   "metadata": {},
   "outputs": [],
   "source": [
    "# Remove emojis\n",
    "import re\n",
    "\n",
    "\n",
    "def deEmojify(text):    \n",
    "    regex_pattern = re.compile(\"[\"\n",
    "        u\"\\U0001F600-\\U0001F64F\"  # emoticons\n",
    "        u\"\\U0001F300-\\U0001F5FF\"  # symbols & pictographs\n",
    "        u\"\\U0001F680-\\U0001F6FF\"  # transport & map symbols\n",
    "        u\"\\U0001F1E0-\\U0001F1FF\"  # flags (iOS)\n",
    "        u\"\\U00002500-\\U00002BEF\"  # chinese char\n",
    "        u\"\\U00002702-\\U000027B0\"\n",
    "        u\"\\U00002702-\\U000027B0\"\n",
    "        u\"\\U000024C2-\\U0001F251\"\n",
    "        u\"\\U0001f926-\\U0001f937\"\n",
    "        u\"\\U00010000-\\U0010ffff\"\n",
    "        u\"\\u2640-\\u2642\" \n",
    "        u\"\\u2600-\\u2B55\"\n",
    "        u\"\\u200d\"\n",
    "        u\"\\u23cf\"\n",
    "        u\"\\u23e9\"\n",
    "        u\"\\u231a\"\n",
    "        u\"\\ufe0f\"  # dingbats\n",
    "        u\"\\u3030\"                    \n",
    "                      \"]+\", re.UNICODE)\n",
    "    return regex_pattern.sub(r'',text)\n",
    "\n",
    "data['recent_posts'] = data['recent_posts'].apply(deEmojify)\n",
    "data['title'] = data['title'].apply(deEmojify)\n",
    "data['description'] = data['description'].apply(deEmojify)"
   ]
  },
  {
   "cell_type": "code",
   "execution_count": 42,
   "metadata": {},
   "outputs": [],
   "source": [
    "data['recent_posts'] = data['recent_posts'].apply(lambda x: x.lower())\n",
    "data['title'] = data['title'].apply(lambda x: x.lower())\n",
    "data['description'] = data['description'].apply(lambda x: x.lower())"
   ]
  },
  {
   "cell_type": "code",
   "execution_count": 44,
   "metadata": {},
   "outputs": [
    {
     "output_type": "stream",
     "name": "stderr",
     "text": [
      "<ipython-input-44-be64877c48f7>:4: TqdmDeprecationWarning: This function will be removed in tqdm==5.0.0\nPlease use `tqdm.notebook.tqdm` instead of `tqdm.tqdm_notebook`\n  for v in tqdm_notebook(data['recent_posts'].apply(lambda x: x.split('\\n'))):\n"
     ]
    },
    {
     "output_type": "display_data",
     "data": {
      "text/plain": "HBox(children=(HTML(value=''), FloatProgress(value=0.0, max=16726.0), HTML(value='')))",
      "application/vnd.jupyter.widget-view+json": {
       "version_major": 2,
       "version_minor": 0,
       "model_id": "44f8a3d30b934066aeda3d674832433b"
      }
     },
     "metadata": {}
    },
    {
     "output_type": "stream",
     "name": "stdout",
     "text": [
      "\n"
     ]
    }
   ],
   "source": [
    "# Remove adds from all posts\n",
    "\n",
    "ALL_POSTS = []\n",
    "for v in tqdm_notebook(data['recent_posts'].apply(lambda x: x.split('\\n'))):\n",
    "    ALL_POSTS.extend(v)\n",
    "post_counts = pd.Series(ALL_POSTS).value_counts().sort_values(ascending = False)\n",
    "\n",
    "\n",
    "def filter_posts(posts, threshold = 5):\n",
    "    posts = posts.split('\\n')\n",
    "    filtered_posts = []\n",
    "    for post in posts:\n",
    "        if post_counts[post] < threshold:\n",
    "            filtered_posts.append(post)\n",
    "    return '\\n'.join(filtered_posts)\n",
    "\n",
    "for i in range(data.shape[0]):\n",
    "    data.iloc[i, 2] = filter_posts(data.iloc[i, 2])"
   ]
  },
  {
   "cell_type": "code",
   "execution_count": 46,
   "metadata": {},
   "outputs": [],
   "source": [
    "def removeEmail(text):\n",
    "    pattern = re.compile(\"((\\w+)(\\.|_)?(\\w*)@(\\w+)(\\.(\\w+))+)\")\n",
    "    return pattern.sub(r'', text)\n",
    "\n",
    "data['recent_posts'] = data['recent_posts'].apply(removeEmail)\n",
    "data['title'] = data['title'].apply(removeEmail)\n",
    "data['description'] = data['description'].apply(removeEmail)"
   ]
  },
  {
   "cell_type": "code",
   "execution_count": 48,
   "metadata": {},
   "outputs": [],
   "source": [
    "def removeUsername(text):\n",
    "    pattern = re.compile(\"(@(\\w+))\")\n",
    "    return pattern.sub(r'', text)\n",
    "\n",
    "data['recent_posts'] = data['recent_posts'].apply(removeUsername)\n",
    "data['title'] = data['title'].apply(removeUsername)\n",
    "data['description'] = data['description'].apply(removeUsername)"
   ]
  },
  {
   "cell_type": "code",
   "execution_count": 49,
   "metadata": {},
   "outputs": [],
   "source": [
    "def removeLinks(text):\n",
    "    pattern = re.compile(\"(https?://[^ ]+)\")\n",
    "    return pattern.sub(r'', text)\n",
    "\n",
    "data['recent_posts'] = data['recent_posts'].apply(removeLinks)\n",
    "data['title'] = data['title'].apply(removeLinks)\n",
    "data['description'] = data['description'].apply(removeLinks)"
   ]
  },
  {
   "cell_type": "code",
   "execution_count": 50,
   "metadata": {},
   "outputs": [
    {
     "output_type": "stream",
     "name": "stderr",
     "text": [
      "/home/sokol/.local/lib/python3.8/site-packages/tqdm/std.py:699: FutureWarning: The Panel class is removed from pandas. Accessing it from the top-level namespace will also be removed in the next version\n  from pandas import Panel\n"
     ]
    }
   ],
   "source": [
    "from tqdm import tqdm\n",
    "tqdm.pandas()"
   ]
  },
  {
   "cell_type": "code",
   "execution_count": 51,
   "metadata": {},
   "outputs": [],
   "source": [
    "from sklearn.model_selection import train_test_split\n",
    "\n",
    "\n",
    "data['preprocessed_text'] = data.title.map(str) + data.description.map(str) + ' ' + data.recent_posts.map(str)\n",
    "data = data.drop(['title', 'description', 'recent_posts'], axis=1)\n",
    "X_train, X_test, y_train, y_test = train_test_split(data, y_data_preprocesse, shuffle=True, train_size=0.7)"
   ]
  },
  {
   "cell_type": "code",
   "execution_count": 52,
   "metadata": {},
   "outputs": [
    {
     "output_type": "stream",
     "name": "stdout",
     "text": [
      "(11708, 1) (5018, 1)\n"
     ]
    }
   ],
   "source": [
    "print(X_train.shape, X_test.shape)"
   ]
  },
  {
   "cell_type": "code",
   "execution_count": 53,
   "metadata": {},
   "outputs": [],
   "source": [
    " from sklearn.feature_extraction.text import CountVectorizer, TfidfVectorizer"
   ]
  },
  {
   "cell_type": "code",
   "execution_count": 54,
   "metadata": {},
   "outputs": [
    {
     "output_type": "execute_result",
     "data": {
      "text/plain": [
       "(11708, 1)"
      ]
     },
     "metadata": {},
     "execution_count": 54
    }
   ],
   "source": [
    "X_train.shape"
   ]
  },
  {
   "cell_type": "code",
   "execution_count": 55,
   "metadata": {
    "tags": []
   },
   "outputs": [
    {
     "output_type": "stream",
     "name": "stdout",
     "text": [
      "(11708, 3000)\n"
     ]
    }
   ],
   "source": [
    "\n",
    "tfidf = TfidfVectorizer(max_features=3000, analyzer='word', stop_words=None, use_idf=True, norm=None, ngram_range=(1, 1),)\n",
    "tfidf_trained = tfidf.fit(X_train.preprocessed_text)\n",
    "x_train_as_array = tfidf_trained.transform(X_train.preprocessed_text).toarray()\n",
    "\n",
    "x_test_as_array = tfidf_trained.transform(X_test.preprocessed_text).toarray()\n",
    "\n",
    "print(x_train_as_array.shape)"
   ]
  },
  {
   "cell_type": "code",
   "execution_count": 31,
   "metadata": {},
   "outputs": [
    {
     "output_type": "execute_result",
     "data": {
      "text/plain": [
       "       0         1     2     3     4        5     6     7     8     9     ...  \\\n",
       "0  3.136826  0.000000   0.0   0.0   0.0  4.89165   0.0   0.0   0.0   0.0  ...   \n",
       "1  0.000000  0.000000   0.0   0.0   0.0  0.00000   0.0   0.0   0.0   0.0  ...   \n",
       "2  0.000000  0.000000   0.0   0.0   0.0  0.00000   0.0   0.0   0.0   0.0  ...   \n",
       "3  3.136826  0.000000   0.0   0.0   0.0  0.00000   0.0   0.0   0.0   0.0  ...   \n",
       "4  0.000000  6.531227   0.0   0.0   0.0  0.00000   0.0   0.0   0.0   0.0  ...   \n",
       "\n",
       "   2990  2991  2992  2993  2994  2995  2996  2997  2998  2999  \n",
       "0   0.0   0.0   0.0   0.0   0.0   0.0   0.0   0.0   0.0   0.0  \n",
       "1   0.0   0.0   0.0   0.0   0.0   0.0   0.0   0.0   0.0   0.0  \n",
       "2   0.0   0.0   0.0   0.0   0.0   0.0   0.0   0.0   0.0   0.0  \n",
       "3   0.0   0.0   0.0   0.0   0.0   0.0   0.0   0.0   0.0   0.0  \n",
       "4   0.0   0.0   0.0   0.0   0.0   0.0   0.0   0.0   0.0   0.0  \n",
       "\n",
       "[5 rows x 3000 columns]"
      ],
      "text/html": "<div>\n<style scoped>\n    .dataframe tbody tr th:only-of-type {\n        vertical-align: middle;\n    }\n\n    .dataframe tbody tr th {\n        vertical-align: top;\n    }\n\n    .dataframe thead th {\n        text-align: right;\n    }\n</style>\n<table border=\"1\" class=\"dataframe\">\n  <thead>\n    <tr style=\"text-align: right;\">\n      <th></th>\n      <th>0</th>\n      <th>1</th>\n      <th>2</th>\n      <th>3</th>\n      <th>4</th>\n      <th>5</th>\n      <th>6</th>\n      <th>7</th>\n      <th>8</th>\n      <th>9</th>\n      <th>...</th>\n      <th>2990</th>\n      <th>2991</th>\n      <th>2992</th>\n      <th>2993</th>\n      <th>2994</th>\n      <th>2995</th>\n      <th>2996</th>\n      <th>2997</th>\n      <th>2998</th>\n      <th>2999</th>\n    </tr>\n  </thead>\n  <tbody>\n    <tr>\n      <th>0</th>\n      <td>3.136826</td>\n      <td>0.000000</td>\n      <td>0.0</td>\n      <td>0.0</td>\n      <td>0.0</td>\n      <td>4.89165</td>\n      <td>0.0</td>\n      <td>0.0</td>\n      <td>0.0</td>\n      <td>0.0</td>\n      <td>...</td>\n      <td>0.0</td>\n      <td>0.0</td>\n      <td>0.0</td>\n      <td>0.0</td>\n      <td>0.0</td>\n      <td>0.0</td>\n      <td>0.0</td>\n      <td>0.0</td>\n      <td>0.0</td>\n      <td>0.0</td>\n    </tr>\n    <tr>\n      <th>1</th>\n      <td>0.000000</td>\n      <td>0.000000</td>\n      <td>0.0</td>\n      <td>0.0</td>\n      <td>0.0</td>\n      <td>0.00000</td>\n      <td>0.0</td>\n      <td>0.0</td>\n      <td>0.0</td>\n      <td>0.0</td>\n      <td>...</td>\n      <td>0.0</td>\n      <td>0.0</td>\n      <td>0.0</td>\n      <td>0.0</td>\n      <td>0.0</td>\n      <td>0.0</td>\n      <td>0.0</td>\n      <td>0.0</td>\n      <td>0.0</td>\n      <td>0.0</td>\n    </tr>\n    <tr>\n      <th>2</th>\n      <td>0.000000</td>\n      <td>0.000000</td>\n      <td>0.0</td>\n      <td>0.0</td>\n      <td>0.0</td>\n      <td>0.00000</td>\n      <td>0.0</td>\n      <td>0.0</td>\n      <td>0.0</td>\n      <td>0.0</td>\n      <td>...</td>\n      <td>0.0</td>\n      <td>0.0</td>\n      <td>0.0</td>\n      <td>0.0</td>\n      <td>0.0</td>\n      <td>0.0</td>\n      <td>0.0</td>\n      <td>0.0</td>\n      <td>0.0</td>\n      <td>0.0</td>\n    </tr>\n    <tr>\n      <th>3</th>\n      <td>3.136826</td>\n      <td>0.000000</td>\n      <td>0.0</td>\n      <td>0.0</td>\n      <td>0.0</td>\n      <td>0.00000</td>\n      <td>0.0</td>\n      <td>0.0</td>\n      <td>0.0</td>\n      <td>0.0</td>\n      <td>...</td>\n      <td>0.0</td>\n      <td>0.0</td>\n      <td>0.0</td>\n      <td>0.0</td>\n      <td>0.0</td>\n      <td>0.0</td>\n      <td>0.0</td>\n      <td>0.0</td>\n      <td>0.0</td>\n      <td>0.0</td>\n    </tr>\n    <tr>\n      <th>4</th>\n      <td>0.000000</td>\n      <td>6.531227</td>\n      <td>0.0</td>\n      <td>0.0</td>\n      <td>0.0</td>\n      <td>0.00000</td>\n      <td>0.0</td>\n      <td>0.0</td>\n      <td>0.0</td>\n      <td>0.0</td>\n      <td>...</td>\n      <td>0.0</td>\n      <td>0.0</td>\n      <td>0.0</td>\n      <td>0.0</td>\n      <td>0.0</td>\n      <td>0.0</td>\n      <td>0.0</td>\n      <td>0.0</td>\n      <td>0.0</td>\n      <td>0.0</td>\n    </tr>\n  </tbody>\n</table>\n<p>5 rows × 3000 columns</p>\n</div>"
     },
     "metadata": {},
     "execution_count": 31
    }
   ],
   "source": [
    "df_test = pd.DataFrame(x_test_as_array)\n",
    "df_test.to_csv('../data/test_for_c++_inference.tsv', sep='\\t', index=False, header=False)\n",
    "df_test.head()"
   ]
  },
  {
   "cell_type": "code",
   "execution_count": 33,
   "metadata": {},
   "outputs": [
    {
     "output_type": "execute_result",
     "data": {
      "text/plain": [
       "                                       preprocessed_text  Art & Design  \\\n",
       "13028  железное перовсе вопросы:  крупнейшие направле...             1   \n",
       "809    холодильник горинахоспис здравого смысла\\n\\nсю...             0   \n",
       "15334  кастинги от 5000 ₽кастинги для актёров и модел...             0   \n",
       "15319  finexecutive #1 in finance jobsвакансии и сове...             0   \n",
       "8964   •ice.win•связь со мной: \\n\\nсо временем вы пой...             0   \n",
       "\n",
       "       Bets & Gambling  Books  Business & Entrepreneurship  \\\n",
       "13028                0      0                            0   \n",
       "809                  0      1                            0   \n",
       "15334                0      0                            0   \n",
       "15319                1      0                            1   \n",
       "8964                 1      0                            1   \n",
       "\n",
       "       Cars & Other Vehicles  Celebrities & Lifestyle  Cryptocurrencies  \\\n",
       "13028                      0                        0                 1   \n",
       "809                        0                        0                 0   \n",
       "15334                      0                        0                 0   \n",
       "15319                      0                        0                 0   \n",
       "8964                       0                        0                 0   \n",
       "\n",
       "       Culture & Events  Curious Facts  ...  Pets  Politics & Incidents  \\\n",
       "13028                 0              1  ...     1                     1   \n",
       "809                   0              0  ...     0                     0   \n",
       "15334                 1              0  ...     0                     0   \n",
       "15319                 0              0  ...     0                     1   \n",
       "8964                  0              0  ...     0                     0   \n",
       "\n",
       "       Psychology & Relationships  Real Estate  Religion & Spirituality  \\\n",
       "13028                           1            0                        1   \n",
       "809                             0            0                        0   \n",
       "15334                           0            0                        0   \n",
       "15319                           0            0                        0   \n",
       "8964                            0            0                        0   \n",
       "\n",
       "       Science  Sports  Technology & Internet  Travel & Tourism  Video Games  \n",
       "13028        0       1                      0                 0            1  \n",
       "809          0       0                      0                 0            0  \n",
       "15334        0       0                      0                 0            0  \n",
       "15319        0       1                      1                 0            0  \n",
       "8964         0       1                      0                 0            0  \n",
       "\n",
       "[5 rows x 42 columns]"
      ],
      "text/html": "<div>\n<style scoped>\n    .dataframe tbody tr th:only-of-type {\n        vertical-align: middle;\n    }\n\n    .dataframe tbody tr th {\n        vertical-align: top;\n    }\n\n    .dataframe thead th {\n        text-align: right;\n    }\n</style>\n<table border=\"1\" class=\"dataframe\">\n  <thead>\n    <tr style=\"text-align: right;\">\n      <th></th>\n      <th>preprocessed_text</th>\n      <th>Art &amp; Design</th>\n      <th>Bets &amp; Gambling</th>\n      <th>Books</th>\n      <th>Business &amp; Entrepreneurship</th>\n      <th>Cars &amp; Other Vehicles</th>\n      <th>Celebrities &amp; Lifestyle</th>\n      <th>Cryptocurrencies</th>\n      <th>Culture &amp; Events</th>\n      <th>Curious Facts</th>\n      <th>...</th>\n      <th>Pets</th>\n      <th>Politics &amp; Incidents</th>\n      <th>Psychology &amp; Relationships</th>\n      <th>Real Estate</th>\n      <th>Religion &amp; Spirituality</th>\n      <th>Science</th>\n      <th>Sports</th>\n      <th>Technology &amp; Internet</th>\n      <th>Travel &amp; Tourism</th>\n      <th>Video Games</th>\n    </tr>\n  </thead>\n  <tbody>\n    <tr>\n      <th>13028</th>\n      <td>железное перовсе вопросы:  крупнейшие направле...</td>\n      <td>1</td>\n      <td>0</td>\n      <td>0</td>\n      <td>0</td>\n      <td>0</td>\n      <td>0</td>\n      <td>1</td>\n      <td>0</td>\n      <td>1</td>\n      <td>...</td>\n      <td>1</td>\n      <td>1</td>\n      <td>1</td>\n      <td>0</td>\n      <td>1</td>\n      <td>0</td>\n      <td>1</td>\n      <td>0</td>\n      <td>0</td>\n      <td>1</td>\n    </tr>\n    <tr>\n      <th>809</th>\n      <td>холодильник горинахоспис здравого смысла\\n\\nсю...</td>\n      <td>0</td>\n      <td>0</td>\n      <td>1</td>\n      <td>0</td>\n      <td>0</td>\n      <td>0</td>\n      <td>0</td>\n      <td>0</td>\n      <td>0</td>\n      <td>...</td>\n      <td>0</td>\n      <td>0</td>\n      <td>0</td>\n      <td>0</td>\n      <td>0</td>\n      <td>0</td>\n      <td>0</td>\n      <td>0</td>\n      <td>0</td>\n      <td>0</td>\n    </tr>\n    <tr>\n      <th>15334</th>\n      <td>кастинги от 5000 ₽кастинги для актёров и модел...</td>\n      <td>0</td>\n      <td>0</td>\n      <td>0</td>\n      <td>0</td>\n      <td>0</td>\n      <td>0</td>\n      <td>0</td>\n      <td>1</td>\n      <td>0</td>\n      <td>...</td>\n      <td>0</td>\n      <td>0</td>\n      <td>0</td>\n      <td>0</td>\n      <td>0</td>\n      <td>0</td>\n      <td>0</td>\n      <td>0</td>\n      <td>0</td>\n      <td>0</td>\n    </tr>\n    <tr>\n      <th>15319</th>\n      <td>finexecutive #1 in finance jobsвакансии и сове...</td>\n      <td>0</td>\n      <td>1</td>\n      <td>0</td>\n      <td>1</td>\n      <td>0</td>\n      <td>0</td>\n      <td>0</td>\n      <td>0</td>\n      <td>0</td>\n      <td>...</td>\n      <td>0</td>\n      <td>1</td>\n      <td>0</td>\n      <td>0</td>\n      <td>0</td>\n      <td>0</td>\n      <td>1</td>\n      <td>1</td>\n      <td>0</td>\n      <td>0</td>\n    </tr>\n    <tr>\n      <th>8964</th>\n      <td>•ice.win•связь со мной: \\n\\nсо временем вы пой...</td>\n      <td>0</td>\n      <td>1</td>\n      <td>0</td>\n      <td>1</td>\n      <td>0</td>\n      <td>0</td>\n      <td>0</td>\n      <td>0</td>\n      <td>0</td>\n      <td>...</td>\n      <td>0</td>\n      <td>0</td>\n      <td>0</td>\n      <td>0</td>\n      <td>0</td>\n      <td>0</td>\n      <td>1</td>\n      <td>0</td>\n      <td>0</td>\n      <td>0</td>\n    </tr>\n  </tbody>\n</table>\n<p>5 rows × 42 columns</p>\n</div>"
     },
     "metadata": {},
     "execution_count": 33
    }
   ],
   "source": [
    "train_preprocess_data = pd.concat([X_train, y_train], axis=1, join=\"inner\")\n",
    "train_preprocess_data.to_csv('../data/train_preprocessed_data.csv', index=False, header=False)\n",
    "train_preprocess_data.head()"
   ]
  },
  {
   "cell_type": "code",
   "execution_count": 35,
   "metadata": {},
   "outputs": [
    {
     "output_type": "execute_result",
     "data": {
      "text/plain": [
       "                                       preprocessed_text  Art & Design  \\\n",
       "13162  русский шаффлмузыкальный критик олег кармунин....             1   \n",
       "4613   белые новостинезависимый новостной канал описы...             0   \n",
       "10976  пробив номерапоиск информации по номеру телефо...             0   \n",
       "4356   мюсли вслухсвежие мысли на острые темы\\n\\nсвяз...             0   \n",
       "8456   manifest лесенка ссылка для друзей   6.000₽60....             0   \n",
       "\n",
       "       Bets & Gambling  Books  Business & Entrepreneurship  \\\n",
       "13162                1      1                            0   \n",
       "4613                 0      0                            1   \n",
       "10976                0      0                            0   \n",
       "4356                 0      1                            0   \n",
       "8456                 1      0                            0   \n",
       "\n",
       "       Cars & Other Vehicles  Celebrities & Lifestyle  Cryptocurrencies  \\\n",
       "13162                      0                        1                 0   \n",
       "4613                       0                        0                 0   \n",
       "10976                      1                        0                 0   \n",
       "4356                       0                        0                 0   \n",
       "8456                       0                        0                 0   \n",
       "\n",
       "       Culture & Events  Curious Facts  ...  Pets  Politics & Incidents  \\\n",
       "13162                 1              0  ...     0                     1   \n",
       "4613                  0              0  ...     0                     1   \n",
       "10976                 0              0  ...     0                     0   \n",
       "4356                  0              1  ...     0                     1   \n",
       "8456                  0              0  ...     0                     0   \n",
       "\n",
       "       Psychology & Relationships  Real Estate  Religion & Spirituality  \\\n",
       "13162                           0            1                        0   \n",
       "4613                            0            0                        0   \n",
       "10976                           0            0                        0   \n",
       "4356                            1            0                        0   \n",
       "8456                            0            0                        0   \n",
       "\n",
       "       Science  Sports  Technology & Internet  Travel & Tourism  Video Games  \n",
       "13162        0       0                      0                 0            0  \n",
       "4613         0       0                      0                 0            1  \n",
       "10976        0       0                      0                 0            0  \n",
       "4356         1       0                      0                 0            0  \n",
       "8456         0       0                      0                 0            0  \n",
       "\n",
       "[5 rows x 42 columns]"
      ],
      "text/html": "<div>\n<style scoped>\n    .dataframe tbody tr th:only-of-type {\n        vertical-align: middle;\n    }\n\n    .dataframe tbody tr th {\n        vertical-align: top;\n    }\n\n    .dataframe thead th {\n        text-align: right;\n    }\n</style>\n<table border=\"1\" class=\"dataframe\">\n  <thead>\n    <tr style=\"text-align: right;\">\n      <th></th>\n      <th>preprocessed_text</th>\n      <th>Art &amp; Design</th>\n      <th>Bets &amp; Gambling</th>\n      <th>Books</th>\n      <th>Business &amp; Entrepreneurship</th>\n      <th>Cars &amp; Other Vehicles</th>\n      <th>Celebrities &amp; Lifestyle</th>\n      <th>Cryptocurrencies</th>\n      <th>Culture &amp; Events</th>\n      <th>Curious Facts</th>\n      <th>...</th>\n      <th>Pets</th>\n      <th>Politics &amp; Incidents</th>\n      <th>Psychology &amp; Relationships</th>\n      <th>Real Estate</th>\n      <th>Religion &amp; Spirituality</th>\n      <th>Science</th>\n      <th>Sports</th>\n      <th>Technology &amp; Internet</th>\n      <th>Travel &amp; Tourism</th>\n      <th>Video Games</th>\n    </tr>\n  </thead>\n  <tbody>\n    <tr>\n      <th>13162</th>\n      <td>русский шаффлмузыкальный критик олег кармунин....</td>\n      <td>1</td>\n      <td>1</td>\n      <td>1</td>\n      <td>0</td>\n      <td>0</td>\n      <td>1</td>\n      <td>0</td>\n      <td>1</td>\n      <td>0</td>\n      <td>...</td>\n      <td>0</td>\n      <td>1</td>\n      <td>0</td>\n      <td>1</td>\n      <td>0</td>\n      <td>0</td>\n      <td>0</td>\n      <td>0</td>\n      <td>0</td>\n      <td>0</td>\n    </tr>\n    <tr>\n      <th>4613</th>\n      <td>белые новостинезависимый новостной канал описы...</td>\n      <td>0</td>\n      <td>0</td>\n      <td>0</td>\n      <td>1</td>\n      <td>0</td>\n      <td>0</td>\n      <td>0</td>\n      <td>0</td>\n      <td>0</td>\n      <td>...</td>\n      <td>0</td>\n      <td>1</td>\n      <td>0</td>\n      <td>0</td>\n      <td>0</td>\n      <td>0</td>\n      <td>0</td>\n      <td>0</td>\n      <td>0</td>\n      <td>1</td>\n    </tr>\n    <tr>\n      <th>10976</th>\n      <td>пробив номерапоиск информации по номеру телефо...</td>\n      <td>0</td>\n      <td>0</td>\n      <td>0</td>\n      <td>0</td>\n      <td>1</td>\n      <td>0</td>\n      <td>0</td>\n      <td>0</td>\n      <td>0</td>\n      <td>...</td>\n      <td>0</td>\n      <td>0</td>\n      <td>0</td>\n      <td>0</td>\n      <td>0</td>\n      <td>0</td>\n      <td>0</td>\n      <td>0</td>\n      <td>0</td>\n      <td>0</td>\n    </tr>\n    <tr>\n      <th>4356</th>\n      <td>мюсли вслухсвежие мысли на острые темы\\n\\nсвяз...</td>\n      <td>0</td>\n      <td>0</td>\n      <td>1</td>\n      <td>0</td>\n      <td>0</td>\n      <td>0</td>\n      <td>0</td>\n      <td>0</td>\n      <td>1</td>\n      <td>...</td>\n      <td>0</td>\n      <td>1</td>\n      <td>1</td>\n      <td>0</td>\n      <td>0</td>\n      <td>1</td>\n      <td>0</td>\n      <td>0</td>\n      <td>0</td>\n      <td>0</td>\n    </tr>\n    <tr>\n      <th>8456</th>\n      <td>manifest лесенка ссылка для друзей   6.000₽60....</td>\n      <td>0</td>\n      <td>1</td>\n      <td>0</td>\n      <td>0</td>\n      <td>0</td>\n      <td>0</td>\n      <td>0</td>\n      <td>0</td>\n      <td>0</td>\n      <td>...</td>\n      <td>0</td>\n      <td>0</td>\n      <td>0</td>\n      <td>0</td>\n      <td>0</td>\n      <td>0</td>\n      <td>0</td>\n      <td>0</td>\n      <td>0</td>\n      <td>0</td>\n    </tr>\n  </tbody>\n</table>\n<p>5 rows × 42 columns</p>\n</div>"
     },
     "metadata": {},
     "execution_count": 35
    }
   ],
   "source": [
    "test_preprocess_data = pd.concat([X_test, y_test], axis=1, join=\"inner\")\n",
    "test_preprocess_data.to_csv('../data/test_preprocessed_data.csv', index=False, header=False)\n",
    "test_preprocess_data.head()"
   ]
  },
  {
   "cell_type": "markdown",
   "metadata": {},
   "source": [
    "## Evaluate model"
   ]
  },
  {
   "cell_type": "code",
   "execution_count": 37,
   "metadata": {},
   "outputs": [],
   "source": [
    "from sklearn.multiclass import OneVsRestClassifier"
   ]
  },
  {
   "cell_type": "code",
   "execution_count": 39,
   "metadata": {
    "tags": []
   },
   "outputs": [],
   "source": [
    "params = { \n",
    "\t# ... \n",
    "    'objective': 'multiclass',\n",
    "    'boosting_type': 'gbdt', \n",
    "    'num_class': 41, \n",
    "    'metric': 'multi_logloss',\n",
    "    \"learning_rate\" : 0.01,\n",
    "    'task': 'train'\n",
    "} "
   ]
  },
  {
   "cell_type": "code",
   "execution_count": 41,
   "metadata": {},
   "outputs": [],
   "source": [
    "model = OneVsRestClassifier(lgbm.LGBMClassifier(**params), n_jobs=3)"
   ]
  },
  {
   "cell_type": "code",
   "execution_count": 43,
   "metadata": {},
   "outputs": [],
   "source": [
    "model = model.fit(x_train_as_array, y_train.values.tolist()) "
   ]
  },
  {
   "cell_type": "code",
   "execution_count": 45,
   "metadata": {},
   "outputs": [
    {
     "output_type": "stream",
     "name": "stdout",
     "text": [
      "Model score  0.0\nAccuracy  0.0\nF1  0.017361589549976575\nPrecision  0.19207317073170732\nRecall  0.009091696250757642\n[0 0 0 0 0 0 0 0 0 0 1 0 0 0 0 0 0 0 0 0 0 0 0 0 0 0 0 1 0 0 0 0 1 0 0 0 0\n 0 0 0 0]\n[1 1 1 0 0 1 0 1 0 0 0 0 0 0 0 0 0 0 0 0 0 0 0 0 0 0 0 1 1 1 1 0 1 0 1 0 0\n 0 0 0 0]\n"
     ]
    }
   ],
   "source": [
    "from sklearn.metrics import f1_score, precision_score, recall_score\n",
    "from sklearn.metrics import accuracy_score, roc_auc_score\n",
    "y_pred = model.predict(x_test_as_array)\n",
    "print('Model score ', model.score(x_test_as_array, y_test))\n",
    "print('Accuracy ', accuracy_score(y_test, y_pred))\n",
    "print('F1 ', f1_score(y_test, y_pred.astype(float), average='micro'))\n",
    "print('Precision ', precision_score(y_test, y_pred.astype(float), average='micro'))\n",
    "print('Recall ', recall_score(y_test, y_pred.astype(float), average='micro'))\n",
    "print(y_pred[0])\n",
    "print(y_test.iloc[0].values)"
   ]
  },
  {
   "cell_type": "markdown",
   "metadata": {},
   "source": [
    "## Save lightmgbm models"
   ]
  },
  {
   "cell_type": "code",
   "execution_count": 47,
   "metadata": {},
   "outputs": [],
   "source": [
    "for i in range(len(model.estimators_)):\n",
    "    model.estimators_[i].booster_.save_model('../model/lightgbm_model_ru_' + str(i) + '.txt')"
   ]
  },
  {
   "cell_type": "code",
   "execution_count": null,
   "metadata": {},
   "outputs": [],
   "source": []
  }
 ],
 "metadata": {
  "kernelspec": {
   "name": "python385jvsc74a57bd0916dbcbb3f70747c44a77c7bcd40155683ae19c65e1c03b4aa3499c5328201f1",
   "display_name": "Python 3.8.5 64-bit"
  },
  "language_info": {
   "codemirror_mode": {
    "name": "ipython",
    "version": 3
   },
   "file_extension": ".py",
   "mimetype": "text/x-python",
   "name": "python",
   "nbconvert_exporter": "python",
   "pygments_lexer": "ipython3",
   "version": "3.8.5"
  },
  "metadata": {
   "interpreter": {
    "hash": "767d51c1340bd893661ea55ea3124f6de3c7a262a8b4abca0554b478b1e2ff90"
   }
  }
 },
 "nbformat": 4,
 "nbformat_minor": 4
}