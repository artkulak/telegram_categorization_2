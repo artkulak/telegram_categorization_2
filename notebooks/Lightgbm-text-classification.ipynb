{
 "cells": [
  {
   "cell_type": "code",
   "execution_count": 25,
   "metadata": {},
   "outputs": [],
   "source": [
    "import numpy as np, pandas as pd\n",
    "from tqdm import tqdm_notebook\n",
    "import json\n",
    "\n",
    "from pathlib import Path\n",
    "import os\n",
    "import lightgbm as lgbm\n",
    "import csv\n",
    "import operator"
   ]
  },
  {
   "cell_type": "markdown",
   "metadata": {},
   "source": [
    "## Prepare the data"
   ]
  },
  {
   "cell_type": "code",
   "execution_count": 26,
   "metadata": {},
   "outputs": [],
   "source": [
    "def load_x_data(file):\n",
    "\n",
    "    with open(f'{file}', 'r', encoding='utf-8') as f:\n",
    "        input_lines = f.read().split('\\n')\n",
    "\n",
    "    data = {\n",
    "        \"title\": [],\n",
    "        \"description\": [],\n",
    "        \"recent_posts\": [],\n",
    "    }\n",
    "\n",
    "    for line in input_lines:\n",
    "        try:\n",
    "            line = json.loads(line)\n",
    "        except:\n",
    "            pass\n",
    "\n",
    "        if line != '':\n",
    "            try:\n",
    "                data['title'].append(line['title'])\n",
    "                data['description'].append(line['description'])\n",
    "                data['recent_posts'].append('\\n'.join(line['recent_posts']))\n",
    "            except:\n",
    "                print('Parse error')\n",
    "\n",
    "    data = pd.DataFrame(data)\n",
    "    return data\n",
    "\n",
    "def load_y_data(file):\n",
    "\n",
    "    with open(f'{file}', 'r', encoding='utf-8') as f:\n",
    "        input_lines = f.read().split('\\n')\n",
    "\n",
    "    data = {\n",
    "        #'lang_code': [],\n",
    "        'label': []  \n",
    "    }\n",
    "\n",
    "    for line in input_lines:\n",
    "        try:\n",
    "            line = json.loads(line)\n",
    "        except:\n",
    "            pass\n",
    "\n",
    "        if line != '':\n",
    "            try:\n",
    "                #data['lang_code'].append(line['lang_code'])\n",
    "                data['label'].append('<SEP>'.join(list(line['category'].keys())))\n",
    "            except:\n",
    "                print('Parse error')\n",
    "    data = pd.DataFrame(data)\n",
    "    return data"
   ]
  },
  {
   "cell_type": "code",
   "execution_count": 27,
   "metadata": {
    "tags": []
   },
   "outputs": [],
   "source": [
    "x_data = pd.DataFrame(columns = ['title', 'description', 'recent_posts'])\n",
    "y_data = pd.DataFrame(columns = ['label'])\n",
    "PATH = '../data/category_en/'\n",
    "x_data = pd.concat([x_data, load_x_data(str(PATH + \"input.txt\"))]).reset_index(drop=True)\n",
    "y_data = pd.concat([y_data, load_y_data(str(PATH + \"output.txt\"))]).reset_index(drop=True)\n",
    "    \n",
    "x_data['recent_posts'] = x_data['recent_posts'].apply(lambda x: x.replace('\\u200b', ''))\n",
    "data = x_data\n",
    "data['label'] = y_data"
   ]
  },
  {
   "cell_type": "code",
   "execution_count": 28,
   "metadata": {},
   "outputs": [
    {
     "output_type": "execute_result",
     "data": {
      "text/plain": [
       "                       title  \\\n",
       "0                 BELAIRE🥃❤️   \n",
       "1  SK365 ROLLOVERS & INPLAYS   \n",
       "2         Weirdo thoughts™️😏   \n",
       "3    Social 👟 Media🍷Trends 🔞   \n",
       "4         The Premier League   \n",
       "\n",
       "                                         description  \\\n",
       "0                                       Don't try🔪❤️   \n",
       "1  Daily 2-20 odds. Rollover challenge. Small odd...   \n",
       "2  Weirdo gang 😪: weirdo quotes, pic type shit th...   \n",
       "3                                                      \n",
       "4  This is a channel to get information on Premie...   \n",
       "\n",
       "                                        recent_posts  \\\n",
       "0  colorado 🤣\\nnaa wop3 asem o\\n🤣🤣🤣🤣🤣🤣🤣\\nlol okay...   \n",
       "1  Risky inplay 💚🥶\\nInplay 4+ Odds \\n\\nVery Risky...   \n",
       "2  @weirdo_thoughts\\n@weirdo_thoughts\\nLet's just...   \n",
       "3  I'll make one😅\\n💡 @social_media_trends\\n🎶 Trac...   \n",
       "4  8 - Only versus Arsenal (11) has Jamie Vardy s...   \n",
       "\n",
       "                                               label  \n",
       "0  Bets & Gambling<SEP>Cars & Other Vehicles<SEP>...  \n",
       "1  Bets & Gambling<SEP>Investments<SEP>Politics &...  \n",
       "2  Directories of Channels & Bots<SEP>Education<S...  \n",
       "3  Celebrities & Lifestyle<SEP>Curious Facts<SEP>...  \n",
       "4                                             Sports  "
      ],
      "text/html": "<div>\n<style scoped>\n    .dataframe tbody tr th:only-of-type {\n        vertical-align: middle;\n    }\n\n    .dataframe tbody tr th {\n        vertical-align: top;\n    }\n\n    .dataframe thead th {\n        text-align: right;\n    }\n</style>\n<table border=\"1\" class=\"dataframe\">\n  <thead>\n    <tr style=\"text-align: right;\">\n      <th></th>\n      <th>title</th>\n      <th>description</th>\n      <th>recent_posts</th>\n      <th>label</th>\n    </tr>\n  </thead>\n  <tbody>\n    <tr>\n      <th>0</th>\n      <td>BELAIRE🥃❤️</td>\n      <td>Don't try🔪❤️</td>\n      <td>colorado 🤣\\nnaa wop3 asem o\\n🤣🤣🤣🤣🤣🤣🤣\\nlol okay...</td>\n      <td>Bets &amp; Gambling&lt;SEP&gt;Cars &amp; Other Vehicles&lt;SEP&gt;...</td>\n    </tr>\n    <tr>\n      <th>1</th>\n      <td>SK365 ROLLOVERS &amp; INPLAYS</td>\n      <td>Daily 2-20 odds. Rollover challenge. Small odd...</td>\n      <td>Risky inplay 💚🥶\\nInplay 4+ Odds \\n\\nVery Risky...</td>\n      <td>Bets &amp; Gambling&lt;SEP&gt;Investments&lt;SEP&gt;Politics &amp;...</td>\n    </tr>\n    <tr>\n      <th>2</th>\n      <td>Weirdo thoughts™️😏</td>\n      <td>Weirdo gang 😪: weirdo quotes, pic type shit th...</td>\n      <td>@weirdo_thoughts\\n@weirdo_thoughts\\nLet's just...</td>\n      <td>Directories of Channels &amp; Bots&lt;SEP&gt;Education&lt;S...</td>\n    </tr>\n    <tr>\n      <th>3</th>\n      <td>Social 👟 Media🍷Trends 🔞</td>\n      <td></td>\n      <td>I'll make one😅\\n💡 @social_media_trends\\n🎶 Trac...</td>\n      <td>Celebrities &amp; Lifestyle&lt;SEP&gt;Curious Facts&lt;SEP&gt;...</td>\n    </tr>\n    <tr>\n      <th>4</th>\n      <td>The Premier League</td>\n      <td>This is a channel to get information on Premie...</td>\n      <td>8 - Only versus Arsenal (11) has Jamie Vardy s...</td>\n      <td>Sports</td>\n    </tr>\n  </tbody>\n</table>\n</div>"
     },
     "metadata": {},
     "execution_count": 28
    }
   ],
   "source": [
    "data.head()"
   ]
  },
  {
   "cell_type": "code",
   "execution_count": 29,
   "metadata": {},
   "outputs": [],
   "source": [
    "mapper = {'Art & Design': '__label__0',\n",
    " 'Bets & Gambling': '__label__1',\n",
    " 'Books': '__label__2',\n",
    " 'Business & Entrepreneurship': '__label__3',\n",
    " 'Cars & Other Vehicles': '__label__4',\n",
    " 'Celebrities & Lifestyle': '__label__5',\n",
    " 'Cryptocurrencies': '__label__6',\n",
    " 'Culture & Events': '__label__7',\n",
    " 'Curious Facts': '__label__8',\n",
    " 'Directories of Channels & Bots': '__label__9',\n",
    " 'Economy & Finance': '__label__10',\n",
    " 'Education': '__label__11',\n",
    " 'Erotic Content': '__label__12',\n",
    " 'Fashion & Beauty': '__label__13',\n",
    " 'Fitness': '__label__14',\n",
    " 'Food & Cooking': '__label__15',\n",
    " 'Foreign Languages': '__label__16',\n",
    " 'Health & Medicine': '__label__17',\n",
    " 'History': '__label__18',\n",
    " 'Hobbies & Activities': '__label__19',\n",
    " 'Home & Architecture': '__label__20',\n",
    " 'Humor & Memes': '__label__21',\n",
    " 'Investments': '__label__22',\n",
    " 'Job Listings': '__label__23',\n",
    " 'Kids & Parenting': '__label__24',\n",
    " 'Marketing & PR': '__label__25',\n",
    " 'Motivation & Self-Development': '__label__26',\n",
    " 'Movies': '__label__27',\n",
    " 'Music': '__label__28',\n",
    " 'Offers & Promotions': '__label__29',\n",
    " 'Pets': '__label__30',\n",
    " 'Politics & Incidents': '__label__31',\n",
    " 'Psychology & Relationships': '__label__32',\n",
    " 'Real Estate': '__label__33',\n",
    " 'Recreation & Entertainment': '__label__34',\n",
    " 'Religion & Spirituality': '__label__35',\n",
    " 'Science': '__label__36',\n",
    " 'Sports': '__label__37',\n",
    " 'Technology & Internet': '__label__38',\n",
    " 'Travel & Tourism': '__label__39',\n",
    " 'Video Games': '__label__40',\n",
    " 'Other': '__label__41'}\n",
    "\n",
    "reverse_mapper = {v: k for k, v in mapper.items()}"
   ]
  },
  {
   "cell_type": "code",
   "execution_count": 30,
   "metadata": {},
   "outputs": [
    {
     "output_type": "execute_result",
     "data": {
      "text/plain": [
       "Empty DataFrame\n",
       "Columns: [Art & Design, Bets & Gambling, Books, Business & Entrepreneurship, Cars & Other Vehicles, Celebrities & Lifestyle, Cryptocurrencies, Culture & Events, Curious Facts, Directories of Channels & Bots, Economy & Finance, Education, Erotic Content, Fashion & Beauty, Fitness, Food & Cooking, Foreign Languages, Health & Medicine, History, Hobbies & Activities, Home & Architecture, Humor & Memes, Investments, Job Listings, Kids & Parenting, Marketing & PR, Motivation & Self-Development, Movies, Music, Offers & Promotions, Pets, Politics & Incidents, Psychology & Relationships, Real Estate, Recreation & Entertainment, Religion & Spirituality, Science, Sports, Technology & Internet, Travel & Tourism, Video Games, Other]\n",
       "Index: []\n",
       "\n",
       "[0 rows x 42 columns]"
      ],
      "text/html": "<div>\n<style scoped>\n    .dataframe tbody tr th:only-of-type {\n        vertical-align: middle;\n    }\n\n    .dataframe tbody tr th {\n        vertical-align: top;\n    }\n\n    .dataframe thead th {\n        text-align: right;\n    }\n</style>\n<table border=\"1\" class=\"dataframe\">\n  <thead>\n    <tr style=\"text-align: right;\">\n      <th></th>\n      <th>Art &amp; Design</th>\n      <th>Bets &amp; Gambling</th>\n      <th>Books</th>\n      <th>Business &amp; Entrepreneurship</th>\n      <th>Cars &amp; Other Vehicles</th>\n      <th>Celebrities &amp; Lifestyle</th>\n      <th>Cryptocurrencies</th>\n      <th>Culture &amp; Events</th>\n      <th>Curious Facts</th>\n      <th>Directories of Channels &amp; Bots</th>\n      <th>...</th>\n      <th>Psychology &amp; Relationships</th>\n      <th>Real Estate</th>\n      <th>Recreation &amp; Entertainment</th>\n      <th>Religion &amp; Spirituality</th>\n      <th>Science</th>\n      <th>Sports</th>\n      <th>Technology &amp; Internet</th>\n      <th>Travel &amp; Tourism</th>\n      <th>Video Games</th>\n      <th>Other</th>\n    </tr>\n  </thead>\n  <tbody>\n  </tbody>\n</table>\n<p>0 rows × 42 columns</p>\n</div>"
     },
     "metadata": {},
     "execution_count": 30
    }
   ],
   "source": [
    "y_data = pd.DataFrame(columns=mapper.keys())\n",
    "y_data"
   ]
  },
  {
   "cell_type": "code",
   "execution_count": 31,
   "metadata": {},
   "outputs": [
    {
     "output_type": "execute_result",
     "data": {
      "text/plain": [
       "   Art & Design  Bets & Gambling  Books  Business & Entrepreneurship  \\\n",
       "0             0                1      0                            0   \n",
       "1             0                1      0                            0   \n",
       "2             0                0      0                            0   \n",
       "3             0                0      0                            0   \n",
       "4             0                0      0                            0   \n",
       "\n",
       "   Cars & Other Vehicles  Celebrities & Lifestyle  Cryptocurrencies  \\\n",
       "0                      1                        0                 0   \n",
       "1                      0                        0                 0   \n",
       "2                      0                        0                 0   \n",
       "3                      0                        1                 0   \n",
       "4                      0                        0                 0   \n",
       "\n",
       "   Culture & Events  Curious Facts  Directories of Channels & Bots  ...  Pets  \\\n",
       "0                 0              1                               0  ...     0   \n",
       "1                 0              0                               0  ...     0   \n",
       "2                 0              0                               1  ...     0   \n",
       "3                 0              1                               0  ...     0   \n",
       "4                 0              0                               0  ...     0   \n",
       "\n",
       "   Politics & Incidents  Psychology & Relationships  Real Estate  \\\n",
       "0                     1                           0            0   \n",
       "1                     1                           0            0   \n",
       "2                     1                           0            0   \n",
       "3                     0                           0            0   \n",
       "4                     0                           0            0   \n",
       "\n",
       "   Religion & Spirituality  Science  Sports  Technology & Internet  \\\n",
       "0                        0        0       1                      0   \n",
       "1                        0        0       0                      0   \n",
       "2                        0        0       1                      0   \n",
       "3                        0        0       1                      0   \n",
       "4                        0        0       1                      0   \n",
       "\n",
       "   Travel & Tourism  Video Games  \n",
       "0                 0            0  \n",
       "1                 0            0  \n",
       "2                 0            1  \n",
       "3                 0            0  \n",
       "4                 0            0  \n",
       "\n",
       "[5 rows x 41 columns]"
      ],
      "text/html": "<div>\n<style scoped>\n    .dataframe tbody tr th:only-of-type {\n        vertical-align: middle;\n    }\n\n    .dataframe tbody tr th {\n        vertical-align: top;\n    }\n\n    .dataframe thead th {\n        text-align: right;\n    }\n</style>\n<table border=\"1\" class=\"dataframe\">\n  <thead>\n    <tr style=\"text-align: right;\">\n      <th></th>\n      <th>Art &amp; Design</th>\n      <th>Bets &amp; Gambling</th>\n      <th>Books</th>\n      <th>Business &amp; Entrepreneurship</th>\n      <th>Cars &amp; Other Vehicles</th>\n      <th>Celebrities &amp; Lifestyle</th>\n      <th>Cryptocurrencies</th>\n      <th>Culture &amp; Events</th>\n      <th>Curious Facts</th>\n      <th>Directories of Channels &amp; Bots</th>\n      <th>...</th>\n      <th>Pets</th>\n      <th>Politics &amp; Incidents</th>\n      <th>Psychology &amp; Relationships</th>\n      <th>Real Estate</th>\n      <th>Religion &amp; Spirituality</th>\n      <th>Science</th>\n      <th>Sports</th>\n      <th>Technology &amp; Internet</th>\n      <th>Travel &amp; Tourism</th>\n      <th>Video Games</th>\n    </tr>\n  </thead>\n  <tbody>\n    <tr>\n      <th>0</th>\n      <td>0</td>\n      <td>1</td>\n      <td>0</td>\n      <td>0</td>\n      <td>1</td>\n      <td>0</td>\n      <td>0</td>\n      <td>0</td>\n      <td>1</td>\n      <td>0</td>\n      <td>...</td>\n      <td>0</td>\n      <td>1</td>\n      <td>0</td>\n      <td>0</td>\n      <td>0</td>\n      <td>0</td>\n      <td>1</td>\n      <td>0</td>\n      <td>0</td>\n      <td>0</td>\n    </tr>\n    <tr>\n      <th>1</th>\n      <td>0</td>\n      <td>1</td>\n      <td>0</td>\n      <td>0</td>\n      <td>0</td>\n      <td>0</td>\n      <td>0</td>\n      <td>0</td>\n      <td>0</td>\n      <td>0</td>\n      <td>...</td>\n      <td>0</td>\n      <td>1</td>\n      <td>0</td>\n      <td>0</td>\n      <td>0</td>\n      <td>0</td>\n      <td>0</td>\n      <td>0</td>\n      <td>0</td>\n      <td>0</td>\n    </tr>\n    <tr>\n      <th>2</th>\n      <td>0</td>\n      <td>0</td>\n      <td>0</td>\n      <td>0</td>\n      <td>0</td>\n      <td>0</td>\n      <td>0</td>\n      <td>0</td>\n      <td>0</td>\n      <td>1</td>\n      <td>...</td>\n      <td>0</td>\n      <td>1</td>\n      <td>0</td>\n      <td>0</td>\n      <td>0</td>\n      <td>0</td>\n      <td>1</td>\n      <td>0</td>\n      <td>0</td>\n      <td>1</td>\n    </tr>\n    <tr>\n      <th>3</th>\n      <td>0</td>\n      <td>0</td>\n      <td>0</td>\n      <td>0</td>\n      <td>0</td>\n      <td>1</td>\n      <td>0</td>\n      <td>0</td>\n      <td>1</td>\n      <td>0</td>\n      <td>...</td>\n      <td>0</td>\n      <td>0</td>\n      <td>0</td>\n      <td>0</td>\n      <td>0</td>\n      <td>0</td>\n      <td>1</td>\n      <td>0</td>\n      <td>0</td>\n      <td>0</td>\n    </tr>\n    <tr>\n      <th>4</th>\n      <td>0</td>\n      <td>0</td>\n      <td>0</td>\n      <td>0</td>\n      <td>0</td>\n      <td>0</td>\n      <td>0</td>\n      <td>0</td>\n      <td>0</td>\n      <td>0</td>\n      <td>...</td>\n      <td>0</td>\n      <td>0</td>\n      <td>0</td>\n      <td>0</td>\n      <td>0</td>\n      <td>0</td>\n      <td>1</td>\n      <td>0</td>\n      <td>0</td>\n      <td>0</td>\n    </tr>\n  </tbody>\n</table>\n<p>5 rows × 41 columns</p>\n</div>"
     },
     "metadata": {},
     "execution_count": 31
    }
   ],
   "source": [
    "labels_list = pd.Series(data.label.apply(lambda x: x.split(\"<SEP>\")))\n",
    "y_data_preprocesse = pd.get_dummies(labels_list.apply(pd.Series).stack(), columns=mapper.keys()).sum(level=0)\n",
    "y_data_preprocesse.head()"
   ]
  },
  {
   "cell_type": "code",
   "execution_count": 32,
   "metadata": {},
   "outputs": [
    {
     "output_type": "stream",
     "name": "stdout",
     "text": [
      "Art & Design                      0\nBets & Gambling                   1\nBooks                             0\nBusiness & Entrepreneurship       0\nCars & Other Vehicles             1\nCelebrities & Lifestyle           0\nCryptocurrencies                  0\nCulture & Events                  0\nCurious Facts                     1\nDirectories of Channels & Bots    0\nEconomy & Finance                 0\nEducation                         1\nErotic Content                    0\nFashion & Beauty                  0\nFitness                           0\nFood & Cooking                    1\nForeign Language Learning         0\nHealth & Medicine                 0\nHistory                           0\nHobbies & Activities              0\nHome & Architecture               0\nHumor & Memes                     0\nInvestments                       0\nJob Listings                      0\nKids & Parenting                  0\nMarketing & PR                    0\nMotivation & Self-development     0\nMovies                            1\nMusic                             0\nOffers & Promotions               0\nOther                             0\nPets                              0\nPolitics & Incidents              1\nPsychology & Relationships        0\nReal Estate                       0\nReligion & Spirituality           0\nScience                           0\nSports                            1\nTechnology & Internet             0\nTravel & Tourism                  0\nVideo Games                       0\nName: 0, dtype: uint8\n"
     ]
    }
   ],
   "source": [
    "print(y_data_preprocesse.iloc[0])"
   ]
  },
  {
   "cell_type": "code",
   "execution_count": 33,
   "metadata": {},
   "outputs": [
    {
     "output_type": "execute_result",
     "data": {
      "text/plain": [
       "'Bets & Gambling<SEP>Cars & Other Vehicles<SEP>Curious Facts<SEP>Education<SEP>Food & Cooking<SEP>Movies<SEP>Politics & Incidents<SEP>Sports'"
      ]
     },
     "metadata": {},
     "execution_count": 33
    }
   ],
   "source": [
    "data.label.iloc[0]"
   ]
  },
  {
   "cell_type": "code",
   "execution_count": 34,
   "metadata": {},
   "outputs": [
    {
     "output_type": "execute_result",
     "data": {
      "text/plain": [
       "                       title  \\\n",
       "0                 BELAIRE🥃❤️   \n",
       "1  SK365 ROLLOVERS & INPLAYS   \n",
       "2         Weirdo thoughts™️😏   \n",
       "3    Social 👟 Media🍷Trends 🔞   \n",
       "4         The Premier League   \n",
       "\n",
       "                                         description  \\\n",
       "0                                       Don't try🔪❤️   \n",
       "1  Daily 2-20 odds. Rollover challenge. Small odd...   \n",
       "2  Weirdo gang 😪: weirdo quotes, pic type shit th...   \n",
       "3                                                      \n",
       "4  This is a channel to get information on Premie...   \n",
       "\n",
       "                                        recent_posts  \n",
       "0  colorado 🤣\\nnaa wop3 asem o\\n🤣🤣🤣🤣🤣🤣🤣\\nlol okay...  \n",
       "1  Risky inplay 💚🥶\\nInplay 4+ Odds \\n\\nVery Risky...  \n",
       "2  @weirdo_thoughts\\n@weirdo_thoughts\\nLet's just...  \n",
       "3  I'll make one😅\\n💡 @social_media_trends\\n🎶 Trac...  \n",
       "4  8 - Only versus Arsenal (11) has Jamie Vardy s...  "
      ],
      "text/html": "<div>\n<style scoped>\n    .dataframe tbody tr th:only-of-type {\n        vertical-align: middle;\n    }\n\n    .dataframe tbody tr th {\n        vertical-align: top;\n    }\n\n    .dataframe thead th {\n        text-align: right;\n    }\n</style>\n<table border=\"1\" class=\"dataframe\">\n  <thead>\n    <tr style=\"text-align: right;\">\n      <th></th>\n      <th>title</th>\n      <th>description</th>\n      <th>recent_posts</th>\n    </tr>\n  </thead>\n  <tbody>\n    <tr>\n      <th>0</th>\n      <td>BELAIRE🥃❤️</td>\n      <td>Don't try🔪❤️</td>\n      <td>colorado 🤣\\nnaa wop3 asem o\\n🤣🤣🤣🤣🤣🤣🤣\\nlol okay...</td>\n    </tr>\n    <tr>\n      <th>1</th>\n      <td>SK365 ROLLOVERS &amp; INPLAYS</td>\n      <td>Daily 2-20 odds. Rollover challenge. Small odd...</td>\n      <td>Risky inplay 💚🥶\\nInplay 4+ Odds \\n\\nVery Risky...</td>\n    </tr>\n    <tr>\n      <th>2</th>\n      <td>Weirdo thoughts™️😏</td>\n      <td>Weirdo gang 😪: weirdo quotes, pic type shit th...</td>\n      <td>@weirdo_thoughts\\n@weirdo_thoughts\\nLet's just...</td>\n    </tr>\n    <tr>\n      <th>3</th>\n      <td>Social 👟 Media🍷Trends 🔞</td>\n      <td></td>\n      <td>I'll make one😅\\n💡 @social_media_trends\\n🎶 Trac...</td>\n    </tr>\n    <tr>\n      <th>4</th>\n      <td>The Premier League</td>\n      <td>This is a channel to get information on Premie...</td>\n      <td>8 - Only versus Arsenal (11) has Jamie Vardy s...</td>\n    </tr>\n  </tbody>\n</table>\n</div>"
     },
     "metadata": {},
     "execution_count": 34
    }
   ],
   "source": [
    "data = data.drop(\"label\", axis=1)\n",
    "data.head()"
   ]
  },
  {
   "cell_type": "code",
   "execution_count": 35,
   "metadata": {},
   "outputs": [],
   "source": [
    "#data = pd.concat([data, y_data_preprocesse], axis=1, join=\"inner\")\n",
    "#data.head()"
   ]
  },
  {
   "cell_type": "code",
   "execution_count": 36,
   "metadata": {},
   "outputs": [],
   "source": [
    "# Remove emojis\n",
    "import re\n",
    "\n",
    "\n",
    "def deEmojify(text):    \n",
    "    regex_pattern = re.compile(\"[\"\n",
    "        u\"\\U0001F600-\\U0001F64F\"  # emoticons\n",
    "        u\"\\U0001F300-\\U0001F5FF\"  # symbols & pictographs\n",
    "        u\"\\U0001F680-\\U0001F6FF\"  # transport & map symbols\n",
    "        u\"\\U0001F1E0-\\U0001F1FF\"  # flags (iOS)\n",
    "        u\"\\U00002500-\\U00002BEF\"  # chinese char\n",
    "        u\"\\U00002702-\\U000027B0\"\n",
    "        u\"\\U00002702-\\U000027B0\"\n",
    "        u\"\\U000024C2-\\U0001F251\"\n",
    "        u\"\\U0001f926-\\U0001f937\"\n",
    "        u\"\\U00010000-\\U0010ffff\"\n",
    "        u\"\\u2640-\\u2642\" \n",
    "        u\"\\u2600-\\u2B55\"\n",
    "        u\"\\u200d\"\n",
    "        u\"\\u23cf\"\n",
    "        u\"\\u23e9\"\n",
    "        u\"\\u231a\"\n",
    "        u\"\\ufe0f\"  # dingbats\n",
    "        u\"\\u3030\"                    \n",
    "                      \"]+\", re.UNICODE)\n",
    "    return regex_pattern.sub(r'',text)\n",
    "\n",
    "data['recent_posts'] = data['recent_posts'].apply(deEmojify)\n",
    "data['title'] = data['title'].apply(deEmojify)\n",
    "data['description'] = data['description'].apply(deEmojify)"
   ]
  },
  {
   "cell_type": "code",
   "execution_count": 37,
   "metadata": {},
   "outputs": [],
   "source": [
    "data['recent_posts'] = data['recent_posts'].apply(lambda x: x.lower())\n",
    "data['title'] = data['title'].apply(lambda x: x.lower())\n",
    "data['description'] = data['description'].apply(lambda x: x.lower())"
   ]
  },
  {
   "cell_type": "code",
   "execution_count": 38,
   "metadata": {},
   "outputs": [
    {
     "output_type": "stream",
     "name": "stderr",
     "text": [
      "<ipython-input-38-be64877c48f7>:4: TqdmDeprecationWarning: This function will be removed in tqdm==5.0.0\nPlease use `tqdm.notebook.tqdm` instead of `tqdm.tqdm_notebook`\n  for v in tqdm_notebook(data['recent_posts'].apply(lambda x: x.split('\\n'))):\n"
     ]
    },
    {
     "output_type": "display_data",
     "data": {
      "text/plain": "HBox(children=(HTML(value=''), FloatProgress(value=0.0, max=14775.0), HTML(value='')))",
      "application/vnd.jupyter.widget-view+json": {
       "version_major": 2,
       "version_minor": 0,
       "model_id": "e9989df579ba44d8b8a58b7b16d5a808"
      }
     },
     "metadata": {}
    },
    {
     "output_type": "stream",
     "name": "stdout",
     "text": [
      "\n"
     ]
    }
   ],
   "source": [
    "# Remove adds from all posts\n",
    "\n",
    "ALL_POSTS = []\n",
    "for v in tqdm_notebook(data['recent_posts'].apply(lambda x: x.split('\\n'))):\n",
    "    ALL_POSTS.extend(v)\n",
    "post_counts = pd.Series(ALL_POSTS).value_counts().sort_values(ascending = False)\n",
    "\n",
    "\n",
    "def filter_posts(posts, threshold = 5):\n",
    "    posts = posts.split('\\n')\n",
    "    filtered_posts = []\n",
    "    for post in posts:\n",
    "        if post_counts[post] < threshold:\n",
    "            filtered_posts.append(post)\n",
    "    return '\\n'.join(filtered_posts)\n",
    "\n",
    "for i in range(data.shape[0]):\n",
    "    data.iloc[i, 2] = filter_posts(data.iloc[i, 2])"
   ]
  },
  {
   "cell_type": "code",
   "execution_count": 39,
   "metadata": {},
   "outputs": [],
   "source": [
    "def removeEmail(text):\n",
    "    pattern = re.compile(\"((\\w+)(\\.|_)?(\\w*)@(\\w+)(\\.(\\w+))+)\")\n",
    "    return pattern.sub(r'', text)\n",
    "\n",
    "data['recent_posts'] = data['recent_posts'].apply(removeEmail)\n",
    "data['title'] = data['title'].apply(removeEmail)\n",
    "data['description'] = data['description'].apply(removeEmail)"
   ]
  },
  {
   "cell_type": "code",
   "execution_count": 40,
   "metadata": {},
   "outputs": [],
   "source": [
    "def removeUsername(text):\n",
    "    pattern = re.compile(\"(@(\\w+))\")\n",
    "    return pattern.sub(r'', text)\n",
    "\n",
    "data['recent_posts'] = data['recent_posts'].apply(removeUsername)\n",
    "data['title'] = data['title'].apply(removeUsername)\n",
    "data['description'] = data['description'].apply(removeUsername)"
   ]
  },
  {
   "cell_type": "code",
   "execution_count": 41,
   "metadata": {},
   "outputs": [],
   "source": [
    "def removeLinks(text):\n",
    "    pattern = re.compile(\"(https?://[^ ]+)\")\n",
    "    return pattern.sub(r'', text)\n",
    "\n",
    "data['recent_posts'] = data['recent_posts'].apply(removeLinks)\n",
    "data['title'] = data['title'].apply(removeLinks)\n",
    "data['description'] = data['description'].apply(removeLinks)"
   ]
  },
  {
   "cell_type": "code",
   "execution_count": 42,
   "metadata": {},
   "outputs": [
    {
     "output_type": "stream",
     "name": "stderr",
     "text": [
      "/home/sokol/.local/lib/python3.8/site-packages/tqdm/std.py:699: FutureWarning: The Panel class is removed from pandas. Accessing it from the top-level namespace will also be removed in the next version\n  from pandas import Panel\n"
     ]
    }
   ],
   "source": [
    "from tqdm import tqdm\n",
    "tqdm.pandas()"
   ]
  },
  {
   "cell_type": "code",
   "execution_count": 43,
   "metadata": {},
   "outputs": [],
   "source": [
    "from sklearn.model_selection import train_test_split\n",
    "\n",
    "\n",
    "data['preprocessed_text'] = data.title.map(str) + data.description.map(str) + ' ' + data.recent_posts.map(str)\n",
    "data = data.drop(['title', 'description', 'recent_posts'], axis=1)\n",
    "X_train, X_test, y_train, y_test = train_test_split(data, y_data_preprocesse, shuffle=True, train_size=0.7)"
   ]
  },
  {
   "cell_type": "code",
   "execution_count": 44,
   "metadata": {},
   "outputs": [
    {
     "output_type": "stream",
     "name": "stdout",
     "text": [
      "(10342, 1) (4433, 1)\n"
     ]
    }
   ],
   "source": [
    "print(X_train.shape, X_test.shape)"
   ]
  },
  {
   "cell_type": "code",
   "execution_count": 45,
   "metadata": {},
   "outputs": [],
   "source": [
    " from sklearn.feature_extraction.text import CountVectorizer, TfidfVectorizer"
   ]
  },
  {
   "cell_type": "code",
   "execution_count": 46,
   "metadata": {},
   "outputs": [
    {
     "output_type": "execute_result",
     "data": {
      "text/plain": [
       "(10342, 1)"
      ]
     },
     "metadata": {},
     "execution_count": 46
    }
   ],
   "source": [
    "X_train.shape"
   ]
  },
  {
   "source": [
    "## Tokenize and vectorize text"
   ],
   "cell_type": "markdown",
   "metadata": {}
  },
  {
   "cell_type": "code",
   "execution_count": 47,
   "metadata": {
    "tags": []
   },
   "outputs": [
    {
     "output_type": "stream",
     "name": "stdout",
     "text": [
      "(10342, 3000)\n"
     ]
    }
   ],
   "source": [
    "tfidf_params = {'max_features':3000, 'use_idf':True}\n",
    "\n",
    "tfidf = TfidfVectorizer(**tfidf_params)\n",
    "tfidf_trained = tfidf.fit(X_train.preprocessed_text)\n",
    "x_train_as_array = tfidf_trained.transform(X_train.preprocessed_text).toarray()\n",
    "\n",
    "x_test_as_array = tfidf_trained.transform(X_test.preprocessed_text).toarray()\n",
    "\n",
    "print(x_train_as_array.shape)"
   ]
  },
  {
   "source": [
    "## Save TfIdf vectorizer"
   ],
   "cell_type": "markdown",
   "metadata": {}
  },
  {
   "cell_type": "code",
   "execution_count": 48,
   "metadata": {
    "tags": []
   },
   "outputs": [],
   "source": [
    "\n",
    "tfidf_vocabulary_df = pd.Series(tfidf_trained.vocabulary_)\n",
    "tfidf_vocabulary_df.to_csv('../models/en/tfidf/tfidf_vocabulary.csv', header=False)\n",
    "\n",
    "tfidf_idf_df = pd.Series(tfidf_trained.idf_)\n",
    "tfidf_idf_df.to_csv('../models/en/tfidf/tfidf_idf.csv', header=False)\n",
    "\n",
    "tfidf_params_df = pd.Series(tfidf_params)\n",
    "tfidf_params_df.to_csv('../models/en/tfidf/tfidf_params.csv', header=False)\n"
   ]
  },
  {
   "cell_type": "code",
   "execution_count": 49,
   "metadata": {},
   "outputs": [
    {
     "output_type": "execute_result",
     "data": {
      "text/plain": [
       "                                       preprocessed_text\n",
       "12167  dimpy super surplus storecontact  -  989127584...\n",
       "2789   gg’s marketplace welcome to gg’s marketplace !...\n",
       "2770   reentry h1 (zzl)reentry h1 signal (zzl) zzl se...\n",
       "9296   online shopping loot deal offerfor any queries...\n",
       "13623  rp.in this world,\\neveryone has a  to ,\\nso, j..."
      ],
      "text/html": "<div>\n<style scoped>\n    .dataframe tbody tr th:only-of-type {\n        vertical-align: middle;\n    }\n\n    .dataframe tbody tr th {\n        vertical-align: top;\n    }\n\n    .dataframe thead th {\n        text-align: right;\n    }\n</style>\n<table border=\"1\" class=\"dataframe\">\n  <thead>\n    <tr style=\"text-align: right;\">\n      <th></th>\n      <th>preprocessed_text</th>\n    </tr>\n  </thead>\n  <tbody>\n    <tr>\n      <th>12167</th>\n      <td>dimpy super surplus storecontact  -  989127584...</td>\n    </tr>\n    <tr>\n      <th>2789</th>\n      <td>gg’s marketplace welcome to gg’s marketplace !...</td>\n    </tr>\n    <tr>\n      <th>2770</th>\n      <td>reentry h1 (zzl)reentry h1 signal (zzl) zzl se...</td>\n    </tr>\n    <tr>\n      <th>9296</th>\n      <td>online shopping loot deal offerfor any queries...</td>\n    </tr>\n    <tr>\n      <th>13623</th>\n      <td>rp.in this world,\\neveryone has a  to ,\\nso, j...</td>\n    </tr>\n  </tbody>\n</table>\n</div>"
     },
     "metadata": {},
     "execution_count": 49
    }
   ],
   "source": [
    "test_preprocess_data = pd.DataFrame(X_train)\n",
    "test_preprocess_data.to_csv('../data/category_en/test_preprocessed_data.csv', index=False, header=False)\n",
    "test_preprocess_data.head()"
   ]
  },
  {
   "cell_type": "markdown",
   "metadata": {},
   "source": [
    "## Evaluate model"
   ]
  },
  {
   "cell_type": "code",
   "execution_count": 50,
   "metadata": {},
   "outputs": [],
   "source": [
    "from sklearn.multiclass import OneVsRestClassifier"
   ]
  },
  {
   "cell_type": "code",
   "execution_count": 51,
   "metadata": {
    "tags": []
   },
   "outputs": [],
   "source": [
    "params = { \n",
    "\t# ... \n",
    "    'objective': 'binary',\n",
    "    'boosting_type': 'gbdt', \n",
    "    'metric': 'logistic',\n",
    "    \"learning_rate\" : 0.01,\n",
    "    'task': 'train'\n",
    "} "
   ]
  },
  {
   "cell_type": "code",
   "execution_count": 52,
   "metadata": {},
   "outputs": [],
   "source": [
    "model = OneVsRestClassifier(lgbm.LGBMClassifier(**params), n_jobs=3)"
   ]
  },
  {
   "cell_type": "code",
   "execution_count": 53,
   "metadata": {},
   "outputs": [],
   "source": [
    "model = model.fit(x_train_as_array, y_train.values.tolist()) "
   ]
  },
  {
   "cell_type": "code",
   "execution_count": 54,
   "metadata": {},
   "outputs": [
    {
     "output_type": "stream",
     "name": "stdout",
     "text": [
      "Model score  0.11594856756147079\nAccuracy  0.11594856756147079\nF1  0.4265780245470485\nPrecision  0.8764635244671269\nRecall  0.28188664671236846\n[0 0 0 0 0 0 0 0 0 0 0 0 0 0 0 0 0 0 0 0 0 0 0 0 0 0 0 0 0 1 0 0 0 0 0 0 0\n 0 0 0 0]\n[0 0 0 0 0 0 0 0 0 0 0 1 0 0 0 0 0 0 0 0 0 0 0 0 0 0 0 0 0 1 0 0 1 0 0 0 0\n 0 1 0 0]\n"
     ]
    }
   ],
   "source": [
    "from sklearn.metrics import f1_score, precision_score, recall_score\n",
    "from sklearn.metrics import accuracy_score, roc_auc_score\n",
    "y_pred = model.predict(x_test_as_array)\n",
    "print('Model score ', model.score(x_test_as_array, y_test))\n",
    "print('Accuracy ', accuracy_score(y_test, y_pred))\n",
    "print('F1 ', f1_score(y_test, y_pred.astype(float), average='micro'))\n",
    "print('Precision ', precision_score(y_test, y_pred.astype(float), average='micro'))\n",
    "print('Recall ', recall_score(y_test, y_pred.astype(float), average='micro'))\n",
    "print(y_pred[0])\n",
    "print(y_test.iloc[0].values)"
   ]
  },
  {
   "cell_type": "markdown",
   "metadata": {},
   "source": [
    "## Save lightmgbm models"
   ]
  },
  {
   "cell_type": "code",
   "execution_count": 55,
   "metadata": {},
   "outputs": [],
   "source": [
    "for i in range(len(model.estimators_)):\n",
    "    model.estimators_[i].booster_.save_model('../models/en/lightgbm_model_' + str(i) + '.txt')"
   ]
  },
  {
   "cell_type": "code",
   "execution_count": null,
   "metadata": {},
   "outputs": [],
   "source": []
  },
  {
   "cell_type": "code",
   "execution_count": null,
   "metadata": {},
   "outputs": [],
   "source": []
  }
 ],
 "metadata": {
  "kernelspec": {
   "name": "python385jvsc74a57bd0916dbcbb3f70747c44a77c7bcd40155683ae19c65e1c03b4aa3499c5328201f1",
   "display_name": "Python 3.8.5 64-bit"
  },
  "language_info": {
   "codemirror_mode": {
    "name": "ipython",
    "version": 3
   },
   "file_extension": ".py",
   "mimetype": "text/x-python",
   "name": "python",
   "nbconvert_exporter": "python",
   "pygments_lexer": "ipython3",
   "version": "3.8.5"
  },
  "metadata": {
   "interpreter": {
    "hash": "767d51c1340bd893661ea55ea3124f6de3c7a262a8b4abca0554b478b1e2ff90"
   }
  }
 },
 "nbformat": 4,
 "nbformat_minor": 4
}